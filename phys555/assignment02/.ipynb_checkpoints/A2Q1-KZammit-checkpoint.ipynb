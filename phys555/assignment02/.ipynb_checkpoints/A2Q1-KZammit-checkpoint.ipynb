{
 "cells": [
  {
   "cell_type": "markdown",
   "id": "a4a3208f-7e35-4f80-9234-82763f1bbf8d",
   "metadata": {},
   "source": [
    "# Phys555 Assignment 2 Question 1\n",
    "Karlee Zammit - V00823093\n",
    "\n",
    "## Datasets, Data Mining, and Data Visualization (using PCA)\n",
    "\n",
    "Q1- Find two 'suitable' and 'challenging' data sets; one for regression and another for a classification problem. Describe the two data sets in one notebook (inputs and targets) and explain how they can be used for regression and classification. Write about works/applications that have been previously done regarding the chosen data sets. Also, conduct data mining, such as feature visualization and present informative data, using PCA."
   ]
  },
  {
   "cell_type": "markdown",
   "id": "9208a64f-0680-46db-9b57-dff9ea540013",
   "metadata": {},
   "source": [
    "## References\n",
    "\n"
   ]
  },
  {
   "cell_type": "markdown",
   "id": "06989f6d-dd35-4006-bf6c-9a149e290f8b",
   "metadata": {},
   "source": [
    "https://www.kaggle.com/datasets/sohier/calcofi?resource=download\n",
    "\n",
    "https://towardsdatascience.com/linear-regression-modelling-oceanographic-data-fdc3a98813bf\n",
    "\n",
    "https://www.kaggle.com/datasets/vencerlanz09/sea-animals-image-dataste"
   ]
  },
  {
   "cell_type": "code",
   "execution_count": null,
   "id": "29f64e4e-6794-4599-9e66-54689f445ba6",
   "metadata": {},
   "outputs": [],
   "source": []
  }
 ],
 "metadata": {
  "kernelspec": {
   "display_name": "phys555",
   "language": "python",
   "name": "phys555"
  },
  "language_info": {
   "codemirror_mode": {
    "name": "ipython",
    "version": 3
   },
   "file_extension": ".py",
   "mimetype": "text/x-python",
   "name": "python",
   "nbconvert_exporter": "python",
   "pygments_lexer": "ipython3",
   "version": "3.7.15"
  }
 },
 "nbformat": 4,
 "nbformat_minor": 5
}
