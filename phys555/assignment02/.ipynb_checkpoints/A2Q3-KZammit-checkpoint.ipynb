{
 "cells": [
  {
   "cell_type": "markdown",
   "id": "a4a3208f-7e35-4f80-9234-82763f1bbf8d",
   "metadata": {},
   "source": [
    "# Phys555 Assignment 2 Question 3\n",
    "Karlee Zammit - V00823093\n",
    "\n",
    "## PCA, Linear Regression, and KNN\n",
    "\n",
    "Q3- Use the Q1 regression data set for the following: \n",
    "Perform a PCA and use the first (N) best components that contain ~90% of the information. Then, repeat Q2 (A and B) with the first N components and compare the performances/plots with Q2. \n",
    "Bonus: Repeat the same steps with 50% and 70% information and compare the three cases (i.e., 50%, 70% and 90%). Add a discussion and conclusion. "
   ]
  },
  {
   "cell_type": "markdown",
   "id": "9208a64f-0680-46db-9b57-dff9ea540013",
   "metadata": {},
   "source": [
    "## References\n",
    "\n"
   ]
  },
  {
   "cell_type": "code",
   "execution_count": null,
   "id": "06d38dde-0b76-4ed9-af37-2c59a71f64f1",
   "metadata": {},
   "outputs": [],
   "source": []
  }
 ],
 "metadata": {
  "kernelspec": {
   "display_name": "phys555",
   "language": "python",
   "name": "phys555"
  },
  "language_info": {
   "codemirror_mode": {
    "name": "ipython",
    "version": 3
   },
   "file_extension": ".py",
   "mimetype": "text/x-python",
   "name": "python",
   "nbconvert_exporter": "python",
   "pygments_lexer": "ipython3",
   "version": "3.7.15"
  }
 },
 "nbformat": 4,
 "nbformat_minor": 5
}
