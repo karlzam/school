{
 "cells": [
  {
   "cell_type": "markdown",
   "id": "a4a3208f-7e35-4f80-9234-82763f1bbf8d",
   "metadata": {},
   "source": [
    "# Phys555 Assignment 2 Question 2\n",
    "Karlee Zammit - V00823093\n",
    "\n",
    "## Linear Regression and KNN\n",
    "\n",
    "Q2 - Use  the Q1 regression data set for the following:\n",
    "A) Use the linear regression model in the module 'Class04-Jan19.' Change the hyperparameters to get the best predictions. Explain the details and discuss the accuracy/performance of the model (i.e., associated plots and metrics). \n",
    "B) Do the same with KNN regression. What is the best K for your data? Which model (A or B) is more accurate (higher performance)?"
   ]
  },
  {
   "cell_type": "markdown",
   "id": "9208a64f-0680-46db-9b57-dff9ea540013",
   "metadata": {},
   "source": [
    "## References\n",
    "\n"
   ]
  },
  {
   "cell_type": "code",
   "execution_count": null,
   "id": "06d38dde-0b76-4ed9-af37-2c59a71f64f1",
   "metadata": {},
   "outputs": [],
   "source": []
  }
 ],
 "metadata": {
  "kernelspec": {
   "display_name": "phys555",
   "language": "python",
   "name": "phys555"
  },
  "language_info": {
   "codemirror_mode": {
    "name": "ipython",
    "version": 3
   },
   "file_extension": ".py",
   "mimetype": "text/x-python",
   "name": "python",
   "nbconvert_exporter": "python",
   "pygments_lexer": "ipython3",
   "version": "3.7.15"
  }
 },
 "nbformat": 4,
 "nbformat_minor": 5
}
