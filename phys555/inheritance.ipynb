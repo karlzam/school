{
 "cells": [
  {
   "cell_type": "code",
   "execution_count": 5,
   "id": "da9a537b-568d-4ac8-abac-ed15b7089b22",
   "metadata": {},
   "outputs": [
    {
     "name": "stdout",
     "output_type": "stream",
     "text": [
      "Vera $2000\n",
      "Chuck $1800\n",
      "Dave $2300, leads IT dep.\n"
     ]
    }
   ],
   "source": [
    "# modules.py\n",
    "class Employee:\n",
    "    def __init__(self, name, salary):\n",
    "        self.name = name\n",
    "        self.salary = salary \n",
    "        \n",
    "class Manager(Employee):\n",
    "    def __init__(self, name, salary, leads_department):\n",
    "        super().__init__(name, salary) # replace repeat code\n",
    "        self.leads_department = leads_department\n",
    "\n",
    "# main.py\n",
    "employees = [\n",
    "    Employee(\"Vera\", 2000),\n",
    "    Employee(\"Chuck\", 1800), \n",
    "    Manager(\"Dave\", 2300, \"IT\"),\n",
    "             ]\n",
    "# reports.py\n",
    "for e in employees:\n",
    "    if type(e) is Employee: # don't want to do this because what if a new class is introduced?\n",
    "        print(f\"{e.name} ${e.salary}\")\n",
    "    else:\n",
    "        print(f\"{e.name} ${e.salary}, leads {e.leads_department} dep.\")\n",
    "            "
   ]
  },
  {
   "cell_type": "code",
   "execution_count": 7,
   "id": "50b8886b-d511-4611-9fa5-d627319d71ea",
   "metadata": {},
   "outputs": [
    {
     "name": "stdout",
     "output_type": "stream",
     "text": [
      "Vera $2000\n",
      "Chuck $1800\n",
      "Dave $2300, leads IT dep.\n"
     ]
    }
   ],
   "source": [
    "# modules.py\n",
    "# Super class\n",
    "class Employee:\n",
    "    def __init__(self, name, salary):\n",
    "        self.name = name\n",
    "        self.salary = salary \n",
    "        \n",
    "    def get_report(self):\n",
    "        return f\"{self.name} ${self.salary}\"\n",
    "\n",
    "# Subclass of Employee\n",
    "class Manager(Employee):\n",
    "    def __init__(self, name, salary, leads_department):\n",
    "        # get code from the super class\n",
    "        super().__init__(name, salary) # replace repeat code\n",
    "        self.leads_department = leads_department\n",
    "        \n",
    "    def get_report(self):\n",
    "        return f\"{self.name} ${self.salary}, leads {self.leads_department} dep.\"\n",
    "    \n",
    "# polymorphism: both have the same method in super and subclass, and the manager one overrides the super one if the type is different\n",
    "\n",
    "# main.py\n",
    "employees = [\n",
    "    Employee(\"Vera\", 2000),\n",
    "    Employee(\"Chuck\", 1800), \n",
    "    Manager(\"Dave\", 2300, \"IT\"),\n",
    "             ]\n",
    "# reports.py\n",
    "for e in employees:\n",
    "    print(e.get_report())"
   ]
  },
  {
   "cell_type": "code",
   "execution_count": 13,
   "id": "7fc257ad-dc9e-4640-b900-11e614a845ab",
   "metadata": {},
   "outputs": [
    {
     "name": "stdout",
     "output_type": "stream",
     "text": [
      "Vera $2000, programs in Python.\n",
      "Chuck $1800, programs in C++.\n",
      "Dave $2300, leads IT dep.\n"
     ]
    }
   ],
   "source": [
    "# modules.py\n",
    "# Super class\n",
    "class Employee:\n",
    "    def __init__(self, name, salary):\n",
    "        self.name = name\n",
    "        self.salary = salary \n",
    "        \n",
    "    def get_report(self):\n",
    "        return f\"{self.name} ${self.salary}\"\n",
    "\n",
    "# Subclass of Employee\n",
    "class Manager(Employee):\n",
    "    def __init__(self, name, salary, leads_department):\n",
    "        # get code from the super class\n",
    "        super().__init__(name, salary) # replace repeat code\n",
    "        self.leads_department = leads_department\n",
    "        \n",
    "    def get_report(self):\n",
    "        return f\"{self.name} ${self.salary}, leads {self.leads_department} dep.\"\n",
    "\n",
    "class Programmer(Employee):\n",
    "    def __init__(self, name, salary, programming_language):\n",
    "        super().__init__(name, salary)\n",
    "        self.programming_language = programming_language\n",
    "        \n",
    "    def get_report(self):\n",
    "        return f\"{self.name} ${self.salary}, programs in {self.programming_language}.\"\n",
    "\n",
    "# main.py\n",
    "employees = [\n",
    "    # here the superclass is never used, only inheritied from, call this \"abstract class\"\n",
    "    Programmer(\"Vera\", 2000, \"Python\"),\n",
    "    Programmer(\"Chuck\", 1800, \"C++\"), \n",
    "    Manager(\"Dave\", 2300, \"IT\"),\n",
    "             ]\n",
    "# reports.py\n",
    "for e in employees:\n",
    "    print(e.get_report())"
   ]
  },
  {
   "cell_type": "code",
   "execution_count": null,
   "id": "2be0a50e-6475-44da-9b3d-b8b36015086f",
   "metadata": {},
   "outputs": [],
   "source": []
  }
 ],
 "metadata": {
  "kernelspec": {
   "display_name": "phys555",
   "language": "python",
   "name": "phys555"
  },
  "language_info": {
   "codemirror_mode": {
    "name": "ipython",
    "version": 3
   },
   "file_extension": ".py",
   "mimetype": "text/x-python",
   "name": "python",
   "nbconvert_exporter": "python",
   "pygments_lexer": "ipython3",
   "version": "3.7.15"
  }
 },
 "nbformat": 4,
 "nbformat_minor": 5
}
