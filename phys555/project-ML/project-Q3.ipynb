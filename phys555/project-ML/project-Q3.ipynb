{
 "cells": [
  {
   "cell_type": "markdown",
   "id": "bb753e73-5324-47c8-bf4e-54d0d68a58ab",
   "metadata": {},
   "source": [
    "# PHYS555 - Machine Learning Project - Q3\n",
    "\n",
    "Karlee Zammit - V00823093"
   ]
  },
  {
   "cell_type": "markdown",
   "id": "d32028c4-38a8-4221-8375-e52bf58e933e",
   "metadata": {},
   "source": [
    "## Use 'sklearn.svm.SVR'  for regression. Compare results (using regression metrics such as scatter, mean, median and associated plots/histograms) with the best results from an ANN model and discuss the comparisons."
   ]
  },
  {
   "cell_type": "code",
   "execution_count": 1,
   "id": "93f2016e",
   "metadata": {},
   "outputs": [],
   "source": [
    "import numpy as np\n",
    "import matplotlib.pyplot as plt\n",
    "import pandas as pd \n",
    "from sklearn.model_selection import train_test_split\n",
    "from sklearn.preprocessing import StandardScaler\n",
    "from sklearn.preprocessing import OneHotEncoder\n",
    "from sklearn.svm import SVR\n",
    "from imblearn.under_sampling import CondensedNearestNeighbour\n",
    "from collections import Counter  \n",
    "from sklearn.neural_network import MLPRegressor\n",
    "from sklearn.pipeline import Pipeline\n",
    "from sklearn.model_selection import GridSearchCV"
   ]
  },
  {
   "cell_type": "code",
   "execution_count": 2,
   "id": "b0a6face-5464-401e-ac1b-0b6029018455",
   "metadata": {},
   "outputs": [],
   "source": [
    "# Regression stats plots\n",
    "def stats_plots(Y_tr, Y_va, Y_tr_pred, Y_va_pred, xlim, ylim, textx, texty, text2x, text2y, title, x_var):\n",
    "    \n",
    "    plt.figure(1)\n",
    "    plt.plot(Y_tr,Y_tr_pred,'ob')\n",
    "    plt.plot(Y_va,Y_va_pred,'.r')\n",
    "\n",
    "    plt.plot(np.arange(xlim,ylim,.1),  np.arange(xlim,ylim,.1),'-k')\n",
    "    plt.xlabel(str(x_var))\n",
    "    plt.ylabel('Predicted ' + str(x_var))\n",
    "    plt.legend(['Training', 'Validation'], loc='best')\n",
    "\n",
    "    plt.text(textx,texty,textstr, color='b',fontsize=15)\n",
    "    plt.text(text2x,text2y,textstrv, color='r',fontsize=15)\n",
    "    plt.title(str(title))\n",
    "\n",
    "    plt.figure(2)\n",
    "    plt.hist(Y_tr_pred-Y_tr,20,color='b',histtype='step',density=True,label='training')\n",
    "    plt.hist(Y_va_pred-Y_va,20,color='r',histtype='step',density=True,label='validation')\n",
    "    plt.xlabel('Predicted - real')\n",
    "    plt.ylabel('Probability (density)')\n",
    "    plt.legend(loc='upper left')\n",
    "\n",
    "    plt.figure(3)\n",
    "    plt.scatter(Y_tr,Y_tr_pred-Y_tr,label='training',color='b',alpha=.3)\n",
    "    plt.scatter(Y_va,Y_va_pred-Y_va,label='test',color='r',alpha=.3)\n",
    "    plt.xlabel('Y (real)')\n",
    "    plt.ylabel('Y (predicted) - Y (real)')\n",
    "    plt.plot([xlim,ylim],[0,0],'y')\n",
    "    plt.legend(loc='best')\n"
   ]
  },
  {
   "cell_type": "code",
   "execution_count": 3,
   "id": "211dea1b-0df8-4524-adda-c7ac375b614b",
   "metadata": {},
   "outputs": [
    {
     "name": "stdout",
     "output_type": "stream",
     "text": [
      "The shape of the dataframe is (9982, 23)\n",
      "564\n",
      "The shape of the dataframe after dropping NaNs is (9642, 23)\n"
     ]
    },
    {
     "data": {
      "text/html": [
       "<div>\n",
       "<style scoped>\n",
       "    .dataframe tbody tr th:only-of-type {\n",
       "        vertical-align: middle;\n",
       "    }\n",
       "\n",
       "    .dataframe tbody tr th {\n",
       "        vertical-align: top;\n",
       "    }\n",
       "\n",
       "    .dataframe thead th {\n",
       "        text-align: right;\n",
       "    }\n",
       "</style>\n",
       "<table border=\"1\" class=\"dataframe\">\n",
       "  <thead>\n",
       "    <tr style=\"text-align: right;\">\n",
       "      <th></th>\n",
       "      <th>Deployment</th>\n",
       "      <th>Year</th>\n",
       "      <th>Month</th>\n",
       "      <th>Day</th>\n",
       "      <th>Hour</th>\n",
       "      <th>DateTime</th>\n",
       "      <th>10-100Hz</th>\n",
       "      <th>100-1000Hz</th>\n",
       "      <th>1-10kHz</th>\n",
       "      <th>10-24kHz</th>\n",
       "      <th>...</th>\n",
       "      <th>DewPt</th>\n",
       "      <th>RelHum</th>\n",
       "      <th>WindDir</th>\n",
       "      <th>WindSp</th>\n",
       "      <th>Pressure</th>\n",
       "      <th>Ice6km2</th>\n",
       "      <th>Ice19km2</th>\n",
       "      <th>Ice31km2</th>\n",
       "      <th>Ice106km2</th>\n",
       "      <th>Ice</th>\n",
       "    </tr>\n",
       "  </thead>\n",
       "  <tbody>\n",
       "    <tr>\n",
       "      <th>0</th>\n",
       "      <td>1</td>\n",
       "      <td>2015</td>\n",
       "      <td>5</td>\n",
       "      <td>18</td>\n",
       "      <td>15</td>\n",
       "      <td>2015-05-18 15:00:00</td>\n",
       "      <td>86.113543</td>\n",
       "      <td>83.540120</td>\n",
       "      <td>75.726148</td>\n",
       "      <td>65.178992</td>\n",
       "      <td>...</td>\n",
       "      <td>-0.1</td>\n",
       "      <td>70.0</td>\n",
       "      <td>15.0</td>\n",
       "      <td>9.0</td>\n",
       "      <td>101.52</td>\n",
       "      <td>13.5</td>\n",
       "      <td>32.222222</td>\n",
       "      <td>39.478261</td>\n",
       "      <td>31.961039</td>\n",
       "      <td>0.0</td>\n",
       "    </tr>\n",
       "    <tr>\n",
       "      <th>1</th>\n",
       "      <td>1</td>\n",
       "      <td>2015</td>\n",
       "      <td>5</td>\n",
       "      <td>18</td>\n",
       "      <td>16</td>\n",
       "      <td>2015-05-18 16:00:00</td>\n",
       "      <td>86.100652</td>\n",
       "      <td>96.371012</td>\n",
       "      <td>89.047766</td>\n",
       "      <td>70.179126</td>\n",
       "      <td>...</td>\n",
       "      <td>0.1</td>\n",
       "      <td>71.0</td>\n",
       "      <td>16.0</td>\n",
       "      <td>12.0</td>\n",
       "      <td>101.53</td>\n",
       "      <td>13.5</td>\n",
       "      <td>32.222222</td>\n",
       "      <td>39.478261</td>\n",
       "      <td>31.961039</td>\n",
       "      <td>0.0</td>\n",
       "    </tr>\n",
       "    <tr>\n",
       "      <th>2</th>\n",
       "      <td>1</td>\n",
       "      <td>2015</td>\n",
       "      <td>5</td>\n",
       "      <td>18</td>\n",
       "      <td>17</td>\n",
       "      <td>2015-05-18 17:00:00</td>\n",
       "      <td>69.981675</td>\n",
       "      <td>98.985918</td>\n",
       "      <td>91.915703</td>\n",
       "      <td>65.467056</td>\n",
       "      <td>...</td>\n",
       "      <td>0.6</td>\n",
       "      <td>72.0</td>\n",
       "      <td>15.0</td>\n",
       "      <td>12.0</td>\n",
       "      <td>101.51</td>\n",
       "      <td>13.5</td>\n",
       "      <td>32.222222</td>\n",
       "      <td>39.478261</td>\n",
       "      <td>31.961039</td>\n",
       "      <td>0.0</td>\n",
       "    </tr>\n",
       "    <tr>\n",
       "      <th>3</th>\n",
       "      <td>1</td>\n",
       "      <td>2015</td>\n",
       "      <td>5</td>\n",
       "      <td>18</td>\n",
       "      <td>18</td>\n",
       "      <td>2015-05-18 18:00:00</td>\n",
       "      <td>68.305432</td>\n",
       "      <td>97.577544</td>\n",
       "      <td>91.349444</td>\n",
       "      <td>65.249551</td>\n",
       "      <td>...</td>\n",
       "      <td>1.4</td>\n",
       "      <td>73.0</td>\n",
       "      <td>13.0</td>\n",
       "      <td>16.0</td>\n",
       "      <td>101.47</td>\n",
       "      <td>13.5</td>\n",
       "      <td>32.222222</td>\n",
       "      <td>39.478261</td>\n",
       "      <td>31.961039</td>\n",
       "      <td>0.0</td>\n",
       "    </tr>\n",
       "    <tr>\n",
       "      <th>4</th>\n",
       "      <td>1</td>\n",
       "      <td>2015</td>\n",
       "      <td>5</td>\n",
       "      <td>18</td>\n",
       "      <td>19</td>\n",
       "      <td>2015-05-18 19:00:00</td>\n",
       "      <td>68.952387</td>\n",
       "      <td>98.386537</td>\n",
       "      <td>91.631783</td>\n",
       "      <td>65.269117</td>\n",
       "      <td>...</td>\n",
       "      <td>1.1</td>\n",
       "      <td>76.0</td>\n",
       "      <td>13.0</td>\n",
       "      <td>24.0</td>\n",
       "      <td>101.44</td>\n",
       "      <td>13.5</td>\n",
       "      <td>32.222222</td>\n",
       "      <td>39.478261</td>\n",
       "      <td>31.961039</td>\n",
       "      <td>0.0</td>\n",
       "    </tr>\n",
       "  </tbody>\n",
       "</table>\n",
       "<p>5 rows × 23 columns</p>\n",
       "</div>"
      ],
      "text/plain": [
       "   Deployment  Year  Month  Day  Hour            DateTime   10-100Hz  \\\n",
       "0           1  2015      5   18    15 2015-05-18 15:00:00  86.113543   \n",
       "1           1  2015      5   18    16 2015-05-18 16:00:00  86.100652   \n",
       "2           1  2015      5   18    17 2015-05-18 17:00:00  69.981675   \n",
       "3           1  2015      5   18    18 2015-05-18 18:00:00  68.305432   \n",
       "4           1  2015      5   18    19 2015-05-18 19:00:00  68.952387   \n",
       "\n",
       "   100-1000Hz    1-10kHz   10-24kHz  ...  DewPt  RelHum  WindDir  WindSp  \\\n",
       "0   83.540120  75.726148  65.178992  ...   -0.1    70.0     15.0     9.0   \n",
       "1   96.371012  89.047766  70.179126  ...    0.1    71.0     16.0    12.0   \n",
       "2   98.985918  91.915703  65.467056  ...    0.6    72.0     15.0    12.0   \n",
       "3   97.577544  91.349444  65.249551  ...    1.4    73.0     13.0    16.0   \n",
       "4   98.386537  91.631783  65.269117  ...    1.1    76.0     13.0    24.0   \n",
       "\n",
       "   Pressure  Ice6km2   Ice19km2   Ice31km2  Ice106km2  Ice  \n",
       "0    101.52     13.5  32.222222  39.478261  31.961039  0.0  \n",
       "1    101.53     13.5  32.222222  39.478261  31.961039  0.0  \n",
       "2    101.51     13.5  32.222222  39.478261  31.961039  0.0  \n",
       "3    101.47     13.5  32.222222  39.478261  31.961039  0.0  \n",
       "4    101.44     13.5  32.222222  39.478261  31.961039  0.0  \n",
       "\n",
       "[5 rows x 23 columns]"
      ]
     },
     "execution_count": 3,
     "metadata": {},
     "output_type": "execute_result"
    }
   ],
   "source": [
    "df_SH = pd.read_excel('Ambient Sound Data Sachs Harbour 2015-2016.xlsx')\n",
    "print('The shape of the dataframe is ' + str(df_SH.shape))\n",
    "\n",
    "# Count the existing nans\n",
    "nan_count = df_SH.isna().sum().sum()\n",
    "print(nan_count)\n",
    "df_SH=df_SH.dropna(axis=0)\n",
    "print('The shape of the dataframe after dropping NaNs is ' + str(df_SH.shape))\n",
    "\n",
    "df_SH.head()"
   ]
  },
  {
   "cell_type": "code",
   "execution_count": 4,
   "id": "f67c2412-23a1-487d-b9d0-e6a16a4c2657",
   "metadata": {},
   "outputs": [],
   "source": [
    "# Drop non necessary columns \n",
    "df_SH = df_SH.drop(['Deployment','DateTime', 'Ice'], axis=1)\n",
    "\n",
    "# Create dataframe for histogram plotting\n",
    "df_hist = df_SH.drop(['Month', 'Day', 'Year', 'Hour'], axis=1)"
   ]
  },
  {
   "cell_type": "code",
   "execution_count": 5,
   "id": "90132649-a740-434b-9cc6-25376bf70b24",
   "metadata": {},
   "outputs": [
    {
     "name": "stdout",
     "output_type": "stream",
     "text": [
      "Index(['Year', 'Month', 'Day', 'Hour', '10-100Hz', '100-1000Hz', '1-10kHz',\n",
      "       '10-24kHz', '250Hz', '50-1000Hz', 'Temperature', 'DewPt', 'RelHum',\n",
      "       'WindDir', 'WindSp', 'Pressure', 'Ice6km2', 'Ice19km2', 'Ice31km2'],\n",
      "      dtype='object')\n",
      "Index(['Ice106km2'], dtype='object')\n",
      "training set ==  (7231, 19) (7231,) ,, validation set ==  (2411, 19) (2411,)\n"
     ]
    }
   ],
   "source": [
    "# Set Ice Concentration as the target variable\n",
    "var = ['Ice106km2']\n",
    "\n",
    "# Drop temperature out of the weather data, and set it as X\n",
    "X = df_SH.loc[:,df_SH.columns.drop(var)]\n",
    "print(X.columns)\n",
    "\n",
    "# Set the target (Y) to be temperature\n",
    "Y = df_SH[var].copy()\n",
    "print(Y.columns)\n",
    "\n",
    "# Call the split data function\n",
    "X_tr, X_va, Y_tr, Y_va = train_test_split(X,Y.values.ravel(),test_size=0.25)\n",
    "\n",
    "# Print the shape of the split data\n",
    "print ('training set == ',np.shape(X_tr),np.shape(Y_tr),',, validation set == ', np.shape(X_va),np.shape(Y_va))\n",
    "\n",
    "# Normalize the data, as was done in Q2\n",
    "scaler_S= StandardScaler().fit(X_tr)  # line #2\n",
    "X_tr_Norm= scaler_S.transform(X_tr) # line # 3\n",
    "X_va_Norm= scaler_S.transform(X_va)  # Line #4"
   ]
  },
  {
   "cell_type": "markdown",
   "id": "33271512-349b-41f3-bbca-4e12697834f1",
   "metadata": {},
   "source": [
    "# ANN"
   ]
  },
  {
   "cell_type": "code",
   "execution_count": 6,
   "id": "650bc45f-0578-4b1b-a6cc-38145a7d63ed",
   "metadata": {},
   "outputs": [],
   "source": [
    "#ann_pipeline = Pipeline([('ANNreg', MLPRegressor(hidden_layer_sizes=(20,20), n_iter_no_change=5, validation_fraction=0.1, early_stopping=True, max_iter=500))])\n",
    "            \n",
    "#params = [{'ANNreg__activation':['relu', 'tanh'], 'ANNreg__solver':['sgd', 'adam'], 'ANNreg__learning_rate':['constant', 'invscaling', 'adaptive']}]\n",
    "\n",
    "#gs_ann = GridSearchCV(ann_pipeline,\n",
    "#                      param_grid=params,\n",
    "#                      scoring='neg_mean_squared_error',\n",
    "#                      cv=5)\n",
    "\n",
    "#gs_ann.fit(X_tr_Norm, Y_tr)\n",
    "#.argmax(axis=1)\n",
    "\n",
    "#gs_ann.best_params_"
   ]
  },
  {
   "cell_type": "markdown",
   "id": "c631cba6-7471-406c-abdd-84f4eb5110a5",
   "metadata": {},
   "source": [
    "Results from the above (commented out for sake of time when rerunning) for neg_mean_squared_error: \n",
    "- Activation: tanh\n",
    "- Learning rate: adaptive\n",
    "- Solver: sgd"
   ]
  },
  {
   "cell_type": "code",
   "execution_count": 7,
   "id": "8403617c-007f-4055-bba1-3d4099c30801",
   "metadata": {},
   "outputs": [],
   "source": [
    "# THIS NEEDS TO BE UPDATED - THE THING ABOVE DIDN'T FINISH\n",
    "reg_ann = MLPRegressor(hidden_layer_sizes=(20,20), n_iter_no_change=5, validation_fraction=0.1, early_stopping=True, max_iter=500, activation='tanh', solver='sgd', learning_rate='adaptive')\n",
    "\n",
    "reg_ann.fit(X_tr_Norm, Y_tr)\n",
    "\n",
    "Y_tr_pred_ann = reg_ann.predict(X_tr_Norm)  \n",
    "Y_va_pred_ann = reg_ann.predict(X_va_Norm)"
   ]
  },
  {
   "cell_type": "code",
   "execution_count": 8,
   "id": "e10d231e-c7ce-4274-8d49-2241efef3fb2",
   "metadata": {},
   "outputs": [
    {
     "ename": "NameError",
     "evalue": "name 'textstr' is not defined",
     "output_type": "error",
     "traceback": [
      "\u001b[1;31m---------------------------------------------------------------------------\u001b[0m",
      "\u001b[1;31mNameError\u001b[0m                                 Traceback (most recent call last)",
      "\u001b[1;32m~\\AppData\\Local\\Temp\\ipykernel_15372\\3078697541.py\u001b[0m in \u001b[0;36m<module>\u001b[1;34m\u001b[0m\n\u001b[1;32m----> 1\u001b[1;33m \u001b[0mstats_plots\u001b[0m\u001b[1;33m(\u001b[0m\u001b[0mY_tr\u001b[0m\u001b[1;33m,\u001b[0m \u001b[0mY_va\u001b[0m\u001b[1;33m,\u001b[0m \u001b[0mY_tr_pred_ann\u001b[0m\u001b[1;33m,\u001b[0m \u001b[0mY_va_pred_ann\u001b[0m\u001b[1;33m,\u001b[0m \u001b[1;33m-\u001b[0m\u001b[1;36m5\u001b[0m\u001b[1;33m,\u001b[0m \u001b[1;36m110\u001b[0m\u001b[1;33m,\u001b[0m \u001b[1;36m125\u001b[0m\u001b[1;33m,\u001b[0m \u001b[1;36m10\u001b[0m\u001b[1;33m,\u001b[0m \u001b[1;36m125\u001b[0m\u001b[1;33m,\u001b[0m \u001b[1;36m40\u001b[0m\u001b[1;33m,\u001b[0m \u001b[0mtitle\u001b[0m\u001b[1;33m=\u001b[0m\u001b[1;34m'ANN for Sachs Harbour'\u001b[0m\u001b[1;33m,\u001b[0m \u001b[0mx_var\u001b[0m \u001b[1;33m=\u001b[0m \u001b[1;34m'Ice Concentration 106km^2'\u001b[0m\u001b[1;33m)\u001b[0m\u001b[1;33m\u001b[0m\u001b[1;33m\u001b[0m\u001b[0m\n\u001b[0m",
      "\u001b[1;32m~\\AppData\\Local\\Temp\\ipykernel_15372\\1557120139.py\u001b[0m in \u001b[0;36mstats_plots\u001b[1;34m(Y_tr, Y_va, Y_tr_pred, Y_va_pred, xlim, ylim, textx, texty, text2x, text2y, title, x_var)\u001b[0m\n\u001b[0;32m     11\u001b[0m     \u001b[0mplt\u001b[0m\u001b[1;33m.\u001b[0m\u001b[0mlegend\u001b[0m\u001b[1;33m(\u001b[0m\u001b[1;33m[\u001b[0m\u001b[1;34m'Training'\u001b[0m\u001b[1;33m,\u001b[0m \u001b[1;34m'Validation'\u001b[0m\u001b[1;33m]\u001b[0m\u001b[1;33m,\u001b[0m \u001b[0mloc\u001b[0m\u001b[1;33m=\u001b[0m\u001b[1;34m'best'\u001b[0m\u001b[1;33m)\u001b[0m\u001b[1;33m\u001b[0m\u001b[1;33m\u001b[0m\u001b[0m\n\u001b[0;32m     12\u001b[0m \u001b[1;33m\u001b[0m\u001b[0m\n\u001b[1;32m---> 13\u001b[1;33m     \u001b[0mplt\u001b[0m\u001b[1;33m.\u001b[0m\u001b[0mtext\u001b[0m\u001b[1;33m(\u001b[0m\u001b[0mtextx\u001b[0m\u001b[1;33m,\u001b[0m\u001b[0mtexty\u001b[0m\u001b[1;33m,\u001b[0m\u001b[0mtextstr\u001b[0m\u001b[1;33m,\u001b[0m \u001b[0mcolor\u001b[0m\u001b[1;33m=\u001b[0m\u001b[1;34m'b'\u001b[0m\u001b[1;33m,\u001b[0m\u001b[0mfontsize\u001b[0m\u001b[1;33m=\u001b[0m\u001b[1;36m15\u001b[0m\u001b[1;33m)\u001b[0m\u001b[1;33m\u001b[0m\u001b[1;33m\u001b[0m\u001b[0m\n\u001b[0m\u001b[0;32m     14\u001b[0m     \u001b[0mplt\u001b[0m\u001b[1;33m.\u001b[0m\u001b[0mtext\u001b[0m\u001b[1;33m(\u001b[0m\u001b[0mtext2x\u001b[0m\u001b[1;33m,\u001b[0m\u001b[0mtext2y\u001b[0m\u001b[1;33m,\u001b[0m\u001b[0mtextstrv\u001b[0m\u001b[1;33m,\u001b[0m \u001b[0mcolor\u001b[0m\u001b[1;33m=\u001b[0m\u001b[1;34m'r'\u001b[0m\u001b[1;33m,\u001b[0m\u001b[0mfontsize\u001b[0m\u001b[1;33m=\u001b[0m\u001b[1;36m15\u001b[0m\u001b[1;33m)\u001b[0m\u001b[1;33m\u001b[0m\u001b[1;33m\u001b[0m\u001b[0m\n\u001b[0;32m     15\u001b[0m     \u001b[0mplt\u001b[0m\u001b[1;33m.\u001b[0m\u001b[0mtitle\u001b[0m\u001b[1;33m(\u001b[0m\u001b[0mstr\u001b[0m\u001b[1;33m(\u001b[0m\u001b[0mtitle\u001b[0m\u001b[1;33m)\u001b[0m\u001b[1;33m)\u001b[0m\u001b[1;33m\u001b[0m\u001b[1;33m\u001b[0m\u001b[0m\n",
      "\u001b[1;31mNameError\u001b[0m: name 'textstr' is not defined"
     ]
    },
    {
     "data": {
      "image/png": "[encoded data removed]",
      "text/plain": [
       "<Figure size 640x480 with 1 Axes>"
      ]
     },
     "metadata": {},
     "output_type": "display_data"
    }
   ],
   "source": [
    "stats_plots(Y_tr, Y_va, Y_tr_pred_ann, Y_va_pred_ann, -5, 110, 125, 10, 125, 40, title='ANN for Sachs Harbour', x_var = 'Ice Concentration 106km^2')"
   ]
  },
  {
   "cell_type": "markdown",
   "id": "c6c3f829-4d14-4498-99cc-c9187523bf56",
   "metadata": {},
   "source": [
    "# SVM"
   ]
  },
  {
   "cell_type": "code",
   "execution_count": null,
   "id": "bb63dc84-569c-4c0b-adb9-c04fb5fa4fea",
   "metadata": {},
   "outputs": [],
   "source": [
    "#sklearn.svm.SVR(*, kernel='rbf', degree=3, gamma='scale', coef0=0.0, tol=0.001, C=1.0, epsilon=0.1, shrinking=True, cache_size=200, verbose=False, max_iter=-1)\n",
    "regr = make_pipeline(SVR(C=1.0, epsilon=0.2))\n",
    "regr.fit(X_tr_Norm, Y_tr)"
   ]
  },
  {
   "cell_type": "code",
   "execution_count": null,
   "id": "744796ce-cab6-48c8-a913-0f0eab9106d4",
   "metadata": {},
   "outputs": [],
   "source": [
    "Y_tr_pred = regr.predict(X_tr_Norm)  \n",
    "Y_va_pred = regr.predict(X_va_Norm)"
   ]
  },
  {
   "cell_type": "code",
   "execution_count": null,
   "id": "bd972fb4-0d3b-4711-87c6-263d76ad478c",
   "metadata": {},
   "outputs": [],
   "source": [
    "stats_plots(Y_tr, Y_va, Y_tr_pred, Y_va_pred, -5, 110, 125, 10, 125, 40, title='SVM for Sachs Harbour', x_var = 'Ice Concentration 106km^2')"
   ]
  },
  {
   "cell_type": "markdown",
   "id": "ebd69183-9f66-4dbe-b881-5c957a7d20d0",
   "metadata": {},
   "source": [
    "# References \n",
    "\n",
    "**Sachs Harbour Dataset:** \n",
    "\n",
    "Insley, S. J., Halliday, W. D., & de Jong, T. (2017). Seasonal Patterns in Ocean Ambient Noise near Sachs Harbour, Northwest Territories. Arctic, 70(3), 239–248. https://doi.org/10.14430/arctic4662\n",
    "\n",
    "https://scikit-learn.org/stable/modules/generated/sklearn.pipeline.Pipeline.html\n",
    "\n"
   ]
  },
  {
   "cell_type": "code",
   "execution_count": null,
   "id": "533a3d4c-1d91-4796-b90b-de99a6414aac",
   "metadata": {},
   "outputs": [],
   "source": []
  }
 ],
 "metadata": {
  "kernelspec": {
   "display_name": "phys555",
   "language": "python",
   "name": "phys555"
  },
  "language_info": {
   "codemirror_mode": {
    "name": "ipython",
    "version": 3
   },
   "file_extension": ".py",
   "mimetype": "text/x-python",
   "name": "python",
   "nbconvert_exporter": "python",
   "pygments_lexer": "ipython3",
   "version": "3.7.15"
  }
 },
 "nbformat": 4,
 "nbformat_minor": 5
}
