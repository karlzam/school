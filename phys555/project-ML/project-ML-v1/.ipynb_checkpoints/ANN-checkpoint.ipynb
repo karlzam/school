{
 "cells": [
  {
   "cell_type": "code",
   "execution_count": 1,
   "id": "93f2016e",
   "metadata": {},
   "outputs": [],
   "source": [
    "import numpy as np\n",
    "import matplotlib.pyplot as plt\n",
    "### import the following modules:\n",
    "import numpy as np\n",
    "import matplotlib.pyplot as plt\n",
    "from sklearn import model_selection as md\n",
    "from sklearn import preprocessing\n",
    "from sklearn.ensemble import RandomForestRegressor\n",
    "from sklearn.ensemble import RandomForestClassifier\n",
    "from sklearn.datasets import make_classification\n",
    "from sklearn.model_selection import train_test_split\n",
    "from matplotlib import cm\n",
    "from sklearn.metrics import roc_curve, auc\n",
    "from sklearn.neighbors import KNeighborsClassifier\n",
    "from sklearn.metrics import confusion_matrix\n",
    "import itertools\n",
    "from sklearn.model_selection import train_test_split\n",
    "from sklearn.preprocessing import OneHotEncoder\n",
    "from sklearn.neural_network import MLPClassifier\n",
    "from sklearn.neural_network import MLPRegressor\n",
    "import pandas as pd \n",
    "from sklearn.preprocessing import StandardScaler, MinMaxScaler\n",
    "import itertools\n",
    "import numpy as np\n",
    "from sklearn import svm, datasets\n",
    "from sklearn.metrics import confusion_matrix"
   ]
  },
  {
   "cell_type": "markdown",
   "id": "f0e56732-c94c-419c-844c-d1110476dda4",
   "metadata": {
    "jp-MarkdownHeadingCollapsed": true,
    "tags": []
   },
   "source": [
    "## Functions"
   ]
  },
  {
   "cell_type": "code",
   "execution_count": 2,
   "id": "13eae0d1-31fc-4421-9e93-2a9884af528b",
   "metadata": {},
   "outputs": [],
   "source": [
    "def plot_confusion_matrix(cm, classes,\n",
    "                          normalize=False,\n",
    "                          title='Confusion matrix',\n",
    "                          cmap=plt.cm.Blues):\n",
    "    \"\"\"\n",
    "    This function prints and plots the confusion matrix.\n",
    "    Normalization can be applied by setting `normalize=True`.\n",
    "    \"\"\"\n",
    "    if normalize:\n",
    "        cm = cm.astype('float') / cm.sum(axis=1)[:, np.newaxis]\n",
    "        print(\"Normalized confusion matrix\")\n",
    "    else:\n",
    "        print('Confusion matrix, without normalization')\n",
    "\n",
    "    print(cm)\n",
    "\n",
    "    plt.imshow(cm, interpolation='nearest', cmap=cmap)\n",
    "    plt.title(title)\n",
    "    plt.colorbar()\n",
    "    tick_marks = np.arange(len(classes))\n",
    "    plt.xticks(tick_marks, classes, rotation=45)\n",
    "    plt.yticks(tick_marks, classes)\n",
    "\n",
    "    fmt = '.2f' if normalize else 'd'\n",
    "    thresh = cm.max() / 2.\n",
    "    for i, j in itertools.product(range(cm.shape[0]), range(cm.shape[1])):\n",
    "        plt.text(j, i, format(cm[i, j], fmt),\n",
    "                 horizontalalignment=\"center\",\n",
    "                 color=\"white\" if cm[i, j] > thresh else \"black\")\n",
    "\n",
    "    plt.tight_layout()\n",
    "    plt.ylabel('True label')\n",
    "    plt.xlabel('Predicted label')\n",
    "    plt.show()"
   ]
  },
  {
   "cell_type": "code",
   "execution_count": 3,
   "id": "8358408c-16b9-4f35-a4c5-deacace6a604",
   "metadata": {},
   "outputs": [],
   "source": [
    "def MLPClass(X_tr, X_va, Y_tr):\n",
    "\n",
    "    clf = MLPClassifier(solver='adam', alpha=1e-5,\n",
    "                        hidden_layer_sizes=(100,50), max_iter=2000,\n",
    "                       early_stopping=True, validation_fraction=0.1 )\n",
    "\n",
    "    ## fitting the model:\n",
    "    clf.fit(X_tr, Y_tr)\n",
    "\n",
    "    ## predict the response for tr and va sets. We can have two outputs: probability (e.g.,PY_tr_prob ) and  the winner class (e.g.,PY_tr):\n",
    "    PY_tr_prob = clf.predict_proba(X_tr)\n",
    "    PY_tr = clf.predict(X_tr)\n",
    "\n",
    "    PY_va_prob = clf.predict_proba(X_va)\n",
    "    PY_va = clf.predict(X_va)\n",
    "\n",
    "    print ('Training Done')\n",
    "    \n",
    "    return PY_tr_prob, PY_tr, PY_va_prob, PY_va\n"
   ]
  },
  {
   "cell_type": "markdown",
   "id": "d017f4a1-8b0e-4cdb-b7d5-b0d7d74b79a7",
   "metadata": {},
   "source": [
    "## Classification - Forest Cover"
   ]
  },
  {
   "cell_type": "code",
   "execution_count": 4,
   "id": "45adea51",
   "metadata": {},
   "outputs": [
    {
     "name": "stdout",
     "output_type": "stream",
     "text": [
      "(581012, 55)\n",
      "Index(['Elevation', 'Aspect', 'Slope', 'Horizontal_Distance_To_Hydrology',\n",
      "       'Vertical_Distance_To_Hydrology', 'Horizontal_Distance_To_Roadways',\n",
      "       'Hillshade_9am', 'Hillshade_Noon', 'Hillshade_3pm',\n",
      "       'Horizontal_Distance_To_Fire_Points', 'Wilderness_Area1',\n",
      "       'Wilderness_Area2', 'Wilderness_Area3', 'Wilderness_Area4',\n",
      "       'Soil_Type1', 'Soil_Type2', 'Soil_Type3', 'Soil_Type4', 'Soil_Type5',\n",
      "       'Soil_Type6', 'Soil_Type7', 'Soil_Type8', 'Soil_Type9', 'Soil_Type10',\n",
      "       'Soil_Type11', 'Soil_Type12', 'Soil_Type13', 'Soil_Type14',\n",
      "       'Soil_Type15', 'Soil_Type16', 'Soil_Type17', 'Soil_Type18',\n",
      "       'Soil_Type19', 'Soil_Type20', 'Soil_Type21', 'Soil_Type22',\n",
      "       'Soil_Type23', 'Soil_Type24', 'Soil_Type25', 'Soil_Type26',\n",
      "       'Soil_Type27', 'Soil_Type28', 'Soil_Type29', 'Soil_Type30',\n",
      "       'Soil_Type31', 'Soil_Type32', 'Soil_Type33', 'Soil_Type34',\n",
      "       'Soil_Type35', 'Soil_Type36', 'Soil_Type37', 'Soil_Type38',\n",
      "       'Soil_Type39', 'Soil_Type40', 'Cover_Type'],\n",
      "      dtype='object')\n"
     ]
    }
   ],
   "source": [
    "covtype = pd.read_csv('covtype.csv')\n",
    "print(covtype.shape)\n",
    "print(covtype.columns)\n",
    "\n",
    "#covtype1 = covtype[(covtype['Cover_Type'] == 1)]\n",
    "#covtype2 = covtype[(covtype['Cover_Type'] == 2)]\n",
    "#covtypef = covtype1.append(covtype2)"
   ]
  },
  {
   "cell_type": "code",
   "execution_count": 5,
   "id": "78f56542",
   "metadata": {},
   "outputs": [
    {
     "name": "stdout",
     "output_type": "stream",
     "text": [
      "<class 'numpy.ndarray'>\n",
      "(581012, 54)\n",
      "training set ==  (435759, 54) (435759, 7) ,, validation set ==  (145253, 54) (145253, 7)\n"
     ]
    }
   ],
   "source": [
    "# \"class\" column as numpy array.\n",
    "y = covtype[\"Cover_Type\"].values\n",
    "print(type(y))\n",
    "\n",
    "# All data except \"class\" column.\n",
    "x = covtype.drop([\"Cover_Type\"], axis=1).values\n",
    "print(x.shape)\n",
    "\n",
    "ohe = OneHotEncoder(sparse=False)\n",
    "tar= np.reshape(y,(-1,1))\n",
    "tar = ohe.fit_transform(tar)\n",
    "\n",
    "# Split data for train and test.\n",
    "X_tr, X_va, Y_tr, Y_va = train_test_split(x, tar, test_size=0.25)\n",
    "\n",
    "print ('training set == ',np.shape(X_tr),np.shape(Y_tr),',, validation set == ', np.shape(X_va),np.shape(Y_va))\n",
    "    \n",
    "scaler_S= StandardScaler().fit(X_tr)  # line #2\n",
    "X_tr_Norm= scaler_S.transform(X_tr) # line # 3\n",
    "X_va_Norm= scaler_S.transform(X_va)  # Line #4"
   ]
  },
  {
   "cell_type": "code",
   "execution_count": 6,
   "id": "c2b65a51",
   "metadata": {},
   "outputs": [
    {
     "name": "stdout",
     "output_type": "stream",
     "text": [
      "Training Done\n"
     ]
    }
   ],
   "source": [
    "PY_tr_prob, PY_tr, PY_va_prob, PY_va = MLPClass(X_tr, X_va, Y_tr)"
   ]
  },
  {
   "cell_type": "code",
   "execution_count": 7,
   "id": "5100bf48",
   "metadata": {},
   "outputs": [
    {
     "name": "stdout",
     "output_type": "stream",
     "text": [
      "Normalized confusion matrix\n",
      "[[0.77484112 0.17515452 0.0123618  0.00107948 0.00971533 0.00727779\n",
      "  0.01956995]\n",
      " [0.11341825 0.86123519 0.00345831 0.         0.0164414  0.00386178\n",
      "  0.00158506]\n",
      " [0.         0.05678922 0.85183837 0.0199005  0.00776605 0.06370586\n",
      "  0.        ]\n",
      " [0.         0.         0.06136364 0.89090909 0.         0.04772727\n",
      "  0.        ]\n",
      " [0.00625978 0.16744914 0.         0.         0.82629108 0.\n",
      "  0.        ]\n",
      " [0.00398992 0.13607728 0.20054599 0.01595968 0.01049979 0.63292734\n",
      "  0.        ]\n",
      " [0.08367911 0.01567543 0.         0.         0.         0.\n",
      "  0.90064546]]\n"
     ]
    },
    {
     "data": {
      "image/png": "[encoded data removed]",
      "text/plain": [
       "<Figure size 640x480 with 2 Axes>"
      ]
     },
     "metadata": {},
     "output_type": "display_data"
    }
   ],
   "source": [
    "# Compute confusion matrix\n",
    "cnf_matrix = confusion_matrix(PY_va.argmax(axis=1), Y_va.argmax(axis=1))\n",
    "\n",
    "#confusion_matrix(\n",
    "#    y_test.values.argmax(axis=1), predictions.argmax(axis=1))\n",
    "\n",
    "#Plot non-normalized confusion matrix\n",
    "#plt.figure()\n",
    "#plot_confusion_matrix(cnf_matrix, classes=['0','1', '2', '3', '4', '5', '6'],\n",
    "#                      title='Confusion matrix, without normalization')\n",
    "\n",
    "# Plot normalized confusion matrix\n",
    "plt.figure()\n",
    "plot_confusion_matrix(cnf_matrix, classes=['0','1', '2', '3', '4', '5', '6'], normalize=True,\n",
    "                      title='Normalized confusion matrix')"
   ]
  },
  {
   "cell_type": "code",
   "execution_count": 8,
   "id": "4b08003c",
   "metadata": {},
   "outputs": [
    {
     "ename": "SyntaxError",
     "evalue": "invalid syntax (2283190279.py, line 1)",
     "output_type": "error",
     "traceback": [
      "\u001b[1;36m  File \u001b[1;32m\"C:\\Users\\Karlee\\AppData\\Local\\Temp\\ipykernel_1368\\2283190279.py\"\u001b[1;36m, line \u001b[1;32m1\u001b[0m\n\u001b[1;33m    https://bg.copernicus.org/articles/10/5793/2013/\u001b[0m\n\u001b[1;37m           ^\u001b[0m\n\u001b[1;31mSyntaxError\u001b[0m\u001b[1;31m:\u001b[0m invalid syntax\n"
     ]
    }
   ],
   "source": [
    "https://bg.copernicus.org/articles/10/5793/2013/"
   ]
  },
  {
   "cell_type": "code",
   "execution_count": null,
   "id": "ca518c20",
   "metadata": {},
   "outputs": [],
   "source": []
  },
  {
   "cell_type": "code",
   "execution_count": null,
   "id": "be10b021",
   "metadata": {},
   "outputs": [],
   "source": []
  },
  {
   "cell_type": "code",
   "execution_count": null,
   "id": "41e0a0b7",
   "metadata": {},
   "outputs": [],
   "source": []
  }
 ],
 "metadata": {
  "kernelspec": {
   "display_name": "phys555",
   "language": "python",
   "name": "phys555"
  },
  "language_info": {
   "codemirror_mode": {
    "name": "ipython",
    "version": 3
   },
   "file_extension": ".py",
   "mimetype": "text/x-python",
   "name": "python",
   "nbconvert_exporter": "python",
   "pygments_lexer": "ipython3",
   "version": "3.7.15"
  }
 },
 "nbformat": 4,
 "nbformat_minor": 5
}
