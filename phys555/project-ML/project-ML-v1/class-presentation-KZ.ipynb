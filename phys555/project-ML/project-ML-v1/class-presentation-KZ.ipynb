{
 "cells": [
  {
   "cell_type": "markdown",
   "id": "a4a3208f-7e35-4f80-9234-82763f1bbf8d",
   "metadata": {},
   "source": [
    "# Regression and Classification\n",
    "Karlee Zammit - V00823093"
   ]
  },
  {
   "cell_type": "code",
   "execution_count": 1,
   "id": "849d625a-6b8c-4211-9c91-1d827164be68",
   "metadata": {},
   "outputs": [],
   "source": [
    "# Import the necessary packages\n",
    "import pandas as pd\n",
    "import numpy as np\n",
    "import matplotlib.pyplot as plt\n",
    "from sklearn.preprocessing import StandardScaler, MinMaxScaler\n",
    "from sklearn.decomposition import PCA\n",
    "import seaborn as sns\n",
    "from sklearn import model_selection as md\n",
    "from sklearn import preprocessing\n",
    "from sklearn.ensemble import RandomForestRegressor\n",
    "from sklearn.ensemble import RandomForestClassifier\n",
    "from sklearn.datasets import make_classification\n",
    "from sklearn.model_selection import train_test_split\n",
    "from matplotlib import cm\n",
    "from sklearn.metrics import roc_curve, auc\n",
    "from sklearn.neighbors import KNeighborsClassifier\n",
    "from sklearn.metrics import confusion_matrix\n",
    "import itertools\n",
    "from sklearn.model_selection import train_test_split\n",
    "from sklearn.preprocessing import OneHotEncoder"
   ]
  },
  {
   "cell_type": "markdown",
   "id": "242d1829-c6e1-46d6-bc9d-1cea7d324060",
   "metadata": {
    "tags": []
   },
   "source": [
    "## Functions"
   ]
  },
  {
   "cell_type": "code",
   "execution_count": null,
   "id": "d194ed9a-9fe6-465d-9437-705f425e75a3",
   "metadata": {},
   "outputs": [],
   "source": [
    "def PCA_analysis(df): \n",
    "    \n",
    "    # Initialize the normalization estimator \n",
    "    sc = StandardScaler()\n",
    "\n",
    "    # Train the estimator on the input data. This method calculates the mean and variance of each of the features present in the data. \n",
    "    sc.fit(df)\n",
    "\n",
    "    # Apply the method to the a data, to transform all of the features using their respective mean and variance.\n",
    "    df_norm = sc.transform(df)\n",
    "\n",
    "    # Initialize scikit learns principal component analysis function\n",
    "    pca = PCA()\n",
    "\n",
    "    # Determine transformed features\n",
    "    df_analysis_pca = pca.fit_transform(df_norm)\n",
    "\n",
    "    # Determine explained variance using explained_variance_ration_ attribute\n",
    "    exp_var_pca = pca.explained_variance_ratio_\n",
    "\n",
    "    # Cumulative sum of eigenvalues; This will be used to create step plot\n",
    "    # for visualizing the variance explained by each principal component.\n",
    "    cum_sum_eigenvalues = np.cumsum(exp_var_pca)\n",
    "\n",
    "    # Create the visualization plot\n",
    "    plt.bar(range(0,len(exp_var_pca)), exp_var_pca, alpha=0.5, align='center', label='Individual explained variance')\n",
    "    plt.step(range(0,len(cum_sum_eigenvalues)), cum_sum_eigenvalues, where='mid',label='Cumulative explained variance')\n",
    "    plt.ylabel('Explained Variance Ratio')\n",
    "    plt.xlabel('Principal Component Index')\n",
    "    plt.title('Explained Variance Ratio vs. Principal Component Index for the Sachs Harbour Dataset')\n",
    "    plt.legend(loc='best')\n",
    "    plt.tight_layout()\n",
    "    plt.show()"
   ]
  },
  {
   "cell_type": "code",
   "execution_count": null,
   "id": "a8486780-3964-4fa3-8b46-97984a7fe9ab",
   "metadata": {},
   "outputs": [],
   "source": [
    "def split_data(X,Y, test_size, normalize):\n",
    "    # Split the input and target data into test and train, with 75% of the data going to training, and 25% of the data going to testing\n",
    "    X_tr, X_va, Y_tr, Y_va = train_test_split(X,Y.values.ravel(),test_size=test_size)\n",
    "\n",
    "    # Print the shape of the split data\n",
    "    print ('training set == ',np.shape(X_tr),np.shape(Y_tr),',, validation set == ', np.shape(X_va),np.shape(Y_va))\n",
    "    \n",
    "    # Normalize the data, as was done in Q2\n",
    "    scaler_S= StandardScaler().fit(X_tr)  # line #2\n",
    "    X_tr_Norm= scaler_S.transform(X_tr) # line # 3\n",
    "    X_va_Norm= scaler_S.transform(X_va)  # Line #4\n",
    "    \n",
    "    n_column = 2\n",
    "\n",
    "    # Plot a figure of the normalized training and validation set to ensure they represent the same distribution and spread\n",
    "    \n",
    "    fig = plt.figure(figsize=(15, 5))\n",
    "    \n",
    "    plt.subplot(1, 2, 1)\n",
    "    plt.hist(X_tr_Norm[:,n_column])\n",
    "    plt.title('Training set')\n",
    "    plt.ylabel('N')\n",
    "    plt.xlabel(\"X\"+str(n_column))\n",
    "\n",
    "    plt.subplot(1, 2, 2)\n",
    "    plt.hist(X_va_Norm[:,n_column])\n",
    "    plt.title('Validation set')\n",
    "    plt.ylabel('N')\n",
    "    plt.xlabel(\"X\"+str(n_column))\n",
    "    \n",
    "    if normalize == 1:\n",
    "        return X_tr_Norm, X_va_Norm, Y_tr, Y_va\n",
    "    else: \n",
    "        return X_tr, X_va, Y_tr, Y_va"
   ]
  },
  {
   "cell_type": "markdown",
   "id": "c9d21eaf-e716-440a-95ed-b900357ef40c",
   "metadata": {
    "tags": []
   },
   "source": [
    "# Regression\n",
    "\n",
    "## Sachs Harbour Dataset"
   ]
  },
  {
   "cell_type": "code",
   "execution_count": 11,
   "id": "21603bc5-9452-458a-af47-2ef1d20d91d1",
   "metadata": {},
   "outputs": [
    {
     "name": "stdout",
     "output_type": "stream",
     "text": [
      "(9982, 23)\n",
      "564\n",
      "<bound method NDFrame.head of       Deployment  Year  Month  Day  Hour                DateTime   10-100Hz  \\\n",
      "0              1  2015      5   18    15 2015-05-18 15:00:00.000  86.113543   \n",
      "1              1  2015      5   18    16 2015-05-18 16:00:00.000  86.100652   \n",
      "2              1  2015      5   18    17 2015-05-18 17:00:00.000  69.981675   \n",
      "3              1  2015      5   18    18 2015-05-18 18:00:00.000  68.305432   \n",
      "4              1  2015      5   18    19 2015-05-18 19:00:00.000  68.952387   \n",
      "...          ...   ...    ...  ...   ...                     ...        ...   \n",
      "9977           2  2016      7    8     9 2016-07-08 09:00:38.850  88.473886   \n",
      "9978           2  2016      7    8    10 2016-07-08 10:00:38.855  84.992894   \n",
      "9979           2  2016      7    8    11 2016-07-08 11:00:38.860  86.025931   \n",
      "9980           2  2016      7    8    12 2016-07-08 12:00:38.865  92.177529   \n",
      "9981           2  2016      7    8    13 2016-07-08 13:00:38.870  91.206801   \n",
      "\n",
      "      100-1000Hz    1-10kHz   10-24kHz  ...  DewPt  RelHum  WindDir  WindSp  \\\n",
      "0      83.540120  75.726148  65.178992  ...   -0.1    70.0     15.0     9.0   \n",
      "1      96.371012  89.047766  70.179126  ...    0.1    71.0     16.0    12.0   \n",
      "2      98.985918  91.915703  65.467056  ...    0.6    72.0     15.0    12.0   \n",
      "3      97.577544  91.349444  65.249551  ...    1.4    73.0     13.0    16.0   \n",
      "4      98.386537  91.631783  65.269117  ...    1.1    76.0     13.0    24.0   \n",
      "...          ...        ...        ...  ...    ...     ...      ...     ...   \n",
      "9977   84.096961  73.887340  65.700515  ...    7.1    72.0     15.0    16.0   \n",
      "9978   78.958625  72.344874  65.576374  ...    5.1    65.0     17.0    15.0   \n",
      "9979   81.774621  73.950168  65.534034  ...    6.3    67.0     17.0    14.0   \n",
      "9980   87.410019  75.408286  65.618456  ...    6.1    68.0     16.0    22.0   \n",
      "9981   90.741698  75.529037  65.484154  ...    6.1    72.0     16.0    20.0   \n",
      "\n",
      "      Pressure  Ice6km2   Ice19km2   Ice31km2  Ice106km2  Ice  \n",
      "0       101.52     13.5  32.222222  39.478261  31.961039  0.0  \n",
      "1       101.53     13.5  32.222222  39.478261  31.961039  0.0  \n",
      "2       101.51     13.5  32.222222  39.478261  31.961039  0.0  \n",
      "3       101.47     13.5  32.222222  39.478261  31.961039  0.0  \n",
      "4       101.44     13.5  32.222222  39.478261  31.961039  0.0  \n",
      "...        ...      ...        ...        ...        ...  ...  \n",
      "9977    100.23     22.0  14.083333  16.428571  10.918848  0.0  \n",
      "9978    100.23     22.0  14.083333  16.428571  10.918848  0.0  \n",
      "9979    100.23     22.0  14.083333  16.428571  10.918848  0.0  \n",
      "9980    100.24     22.0  14.083333  16.428571  10.918848  0.0  \n",
      "9981    100.26     22.0  14.083333  16.428571  10.918848  0.0  \n",
      "\n",
      "[9982 rows x 23 columns]>\n",
      "(9642, 20)\n"
     ]
    },
    {
     "data": {
      "text/plain": [
       "Text(0, 0.5, 'Number of Samples')"
      ]
     },
     "execution_count": 11,
     "metadata": {},
     "output_type": "execute_result"
    },
    {
     "data": {
      "image/png": "[encoded data removed]",
      "text/plain": [
       "<Figure size 500x300 with 1 Axes>"
      ]
     },
     "metadata": {},
     "output_type": "display_data"
    }
   ],
   "source": [
    "# Load in the data csv and print it's shape\n",
    "df_SH = pd.read_excel('Ambient Sound Data Sachs Harbour 2015-2016.xlsx')\n",
    "print(df_SH.shape)\n",
    "\n",
    "# Count the existing nans\n",
    "nan_count = df_SH.isna().sum().sum()\n",
    "print(nan_count)\n",
    "\n",
    "print(df_SH.head)\n",
    "\n",
    "# Drop non necessary columns \n",
    "df_hist = df_SH.drop(['Deployment', 'DateTime', 'Ice', 'Month', 'Day', 'Year', 'Hour'], axis=1)\n",
    "df_SH = df_SH.drop(['Deployment','DateTime', 'Ice'], axis=1)\n",
    "\n",
    "\n",
    "#encoder = OneHotEncoder()\n",
    "#transformed = encoder.transform(df_SH['Month'].to_numpy().reshape(-1, 1))\n",
    "#Create a Pandas DataFrame of the hot encoded column\n",
    "#ohe_df = pd.DataFrame(transformed, columns=jobs_encoder.get_feature_names())\n",
    "#concat with original data\n",
    "#data = pd.concat([data, ohe_df], axis=1).drop(['Profession'], axis=1)\n",
    "\n",
    "# Double check there are no nans \n",
    "df_SH=df_SH.dropna(axis=0)\n",
    "\n",
    "# Plot a histogram of the data\n",
    "#df_SH.hist(figsize=(14, 12), bins=100, edgecolor=\"black\")\n",
    "print(df_SH.shape)\n",
    "\n",
    "#df_hist.hist()\n",
    "\n",
    "df_SH.Ice106km2.hist(figsize=(5, 3), bins=100, edgecolor=\"black\")\n",
    "plt.title('Ice Concentration at 106km^2 from Hydrophone')\n",
    "plt.xlabel('Ice Concentration (%)')\n",
    "plt.ylabel('Number of Samples')"
   ]
  },
  {
   "cell_type": "code",
   "execution_count": null,
   "id": "dfe37b29-ae81-4003-a0d5-a5788c79e6e6",
   "metadata": {},
   "outputs": [],
   "source": [
    "PCA_analysis(df_SH)"
   ]
  },
  {
   "cell_type": "code",
   "execution_count": null,
   "id": "910870e7-ff5a-4b53-a315-6a3177d4b106",
   "metadata": {},
   "outputs": [],
   "source": [
    "# Set temperature as the target variable\n",
    "var = ['Temperature']\n",
    "\n",
    "# Drop temperature out of the weather data, and set it as X\n",
    "X = df_SH.loc[:,df_SH.columns.drop(var)]\n",
    "print(X.columns)\n",
    "\n",
    "# Set the target (Y) to be temperature\n",
    "Y = df_SH[var].copy()\n",
    "print(Y.columns)\n",
    "\n",
    "# Call the split data function\n",
    "X_tr, X_va, Y_tr, Y_va = train_test_split(X,Y.values.ravel(),test_size=0.25)\n",
    "\n",
    "# Print the shape of the split data\n",
    "print ('training set == ',np.shape(X_tr),np.shape(Y_tr),',, validation set == ', np.shape(X_va),np.shape(Y_va))\n",
    "\n",
    "# Normalize the data, as was done in Q2\n",
    "scaler_S= StandardScaler().fit(X_tr)  # line #2\n",
    "X_tr_Norm= scaler_S.transform(X_tr) # line # 3\n",
    "X_va_Norm= scaler_S.transform(X_va)  # Line #4"
   ]
  },
  {
   "cell_type": "code",
   "execution_count": null,
   "id": "1b4bde2c-2bf0-4c36-8664-fdf2a47569d8",
   "metadata": {},
   "outputs": [],
   "source": [
    "# Plot a correlation coefficient matrix\n",
    "corr = df_SH.corr()\n",
    "ax = plt.axes()\n",
    "sns.heatmap(corr, \n",
    "            xticklabels=corr.columns.values,\n",
    "            yticklabels=corr.columns.values, ax=ax)\n",
    "plt.title('Correlation Coefficient Matrix for Sachs Harbour Dataset')"
   ]
  },
  {
   "cell_type": "markdown",
   "id": "553ae5aa-89f7-4e7b-a85c-b85833dd1299",
   "metadata": {
    "tags": []
   },
   "source": [
    "# Classification"
   ]
  },
  {
   "cell_type": "markdown",
   "id": "b4d3301a-96c9-4b91-b749-8c076dc1fea1",
   "metadata": {},
   "source": [
    "## Forest Cover Dataset"
   ]
  },
  {
   "cell_type": "code",
   "execution_count": 2,
   "id": "5a6d7acf-cbba-4193-b4c3-4238f123e339",
   "metadata": {},
   "outputs": [
    {
     "name": "stdout",
     "output_type": "stream",
     "text": [
      "(581012, 55)\n"
     ]
    }
   ],
   "source": [
    "df = pd.read_csv('covtype.csv')\n",
    "print(df.shape)"
   ]
  },
  {
   "cell_type": "code",
   "execution_count": null,
   "id": "bfd1ed00-337f-4c77-9515-cb67f50b91e4",
   "metadata": {},
   "outputs": [],
   "source": [
    "# Plot a correlation coefficient matrix\n",
    "\n",
    "df_hist = df.drop(['Wilderness_Area1',\n",
    "       'Wilderness_Area2', 'Wilderness_Area3', 'Wilderness_Area4',\n",
    "       'Soil_Type1', 'Soil_Type2', 'Soil_Type3', 'Soil_Type4', 'Soil_Type5',\n",
    "       'Soil_Type6', 'Soil_Type7', 'Soil_Type8', 'Soil_Type9', 'Soil_Type10',\n",
    "       'Soil_Type11', 'Soil_Type12', 'Soil_Type13', 'Soil_Type14',\n",
    "       'Soil_Type15', 'Soil_Type16', 'Soil_Type17', 'Soil_Type18',\n",
    "       'Soil_Type19', 'Soil_Type20', 'Soil_Type21', 'Soil_Type22',\n",
    "       'Soil_Type23', 'Soil_Type24', 'Soil_Type25', 'Soil_Type26',\n",
    "       'Soil_Type27', 'Soil_Type28', 'Soil_Type29', 'Soil_Type30',\n",
    "       'Soil_Type31', 'Soil_Type32', 'Soil_Type33', 'Soil_Type34',\n",
    "       'Soil_Type35', 'Soil_Type36', 'Soil_Type37', 'Soil_Type38',\n",
    "       'Soil_Type39', 'Soil_Type40'], axis=1)\n",
    "\n",
    "\n",
    "corr = df_hist.corr()\n",
    "ax = plt.axes()\n",
    "sns.heatmap(corr, \n",
    "            xticklabels=corr.columns.values,\n",
    "            yticklabels=corr.columns.values, ax=ax)\n",
    "plt.title('Correlation Coefficient Matrix for Forest Cover Dataset')\n",
    "\n",
    "df_hist.hist(figsize=(12, 9), bins=30, edgecolor=\"black\")"
   ]
  },
  {
   "cell_type": "code",
   "execution_count": 3,
   "id": "17694d84-e374-4c9f-b236-1db973c83141",
   "metadata": {},
   "outputs": [
    {
     "name": "stdout",
     "output_type": "stream",
     "text": [
      "<class 'numpy.ndarray'>\n",
      "(581012, 54)\n",
      "training set ==  (435759, 54) (435759, 7) ,, validation set ==  (145253, 54) (145253, 7)\n"
     ]
    }
   ],
   "source": [
    "# \"class\" column as numpy array.\n",
    "y = df[\"Cover_Type\"].values\n",
    "print(type(y))\n",
    "\n",
    "# All data except \"class\" column.\n",
    "x = df.drop([\"Cover_Type\"], axis=1).values\n",
    "print(x.shape)\n",
    "\n",
    "ohe = OneHotEncoder(sparse=False)\n",
    "tar= np.reshape(y,(-1,1))\n",
    "tar = ohe.fit_transform(tar)\n",
    "\n",
    "# Split data for train and test.\n",
    "X_tr, X_va, Y_tr, Y_va = train_test_split(x,tar,test_size=0.25)\n",
    "\n",
    "# Print the shape of the split data\n",
    "print('training set == ',np.shape(X_tr),np.shape(Y_tr),',, validation set == ', np.shape(X_va),np.shape(Y_va))\n",
    "\n",
    "# Normalize the data, as was done in Q2\n",
    "scaler_S= StandardScaler().fit(X_tr)  # line #2\n",
    "X_tr_Norm= scaler_S.transform(X_tr) # line # 3\n",
    "X_va_Norm= scaler_S.transform(X_va)  # Line #4\n",
    "\n",
    "x_df = df.drop([\"Cover_Type\"], axis=1)\n",
    "X_tr_df = pd.DataFrame(X_tr, columns = x_df.columns)"
   ]
  },
  {
   "cell_type": "code",
   "execution_count": 4,
   "id": "ebe41fe0-2343-4591-b056-d1edb87a4da9",
   "metadata": {},
   "outputs": [
    {
     "name": "stdout",
     "output_type": "stream",
     "text": [
      "706\n",
      "training set ==  (3706, 54) (3706, 7) ,, validation set ==  (1236, 54) (1236, 7)\n"
     ]
    }
   ],
   "source": [
    "df_val = df.merge(X_tr_df.drop_duplicates(), how='left', indicator=True)\n",
    "df_val = df_val.loc[df_val['_merge'] == 'left_only']\n",
    "df_val = df_val.drop('_merge', axis=1)\n",
    "\n",
    "#print(df_val.columns)\n",
    "\n",
    "# Get the minimum number of values in the smallest class to create a balanced validation set \n",
    "minimum = []\n",
    "for ii in range(0, 6):\n",
    "    class_num = df_val.loc[df_val['Cover_Type'] == ii+1]\n",
    "    minimum.append(class_num.shape[0])\n",
    "min_num = min(minimum)\n",
    "print(min_num)\n",
    "\n",
    "class_1 = df_val.loc[df_val['Cover_Type'] == 1]\n",
    "class_all_bal = class_1.sample(n=min_num)\n",
    "\n",
    "for ii in range(1,7):\n",
    "    class_n = df_val.loc[df_val['Cover_Type'] == ii+1]\n",
    "    class_n_sample = class_n.sample(n=min_num)\n",
    "    class_all_bal = class_all_bal.append(class_n_sample)\n",
    "\n",
    "# \"class\" column as numpy array.\n",
    "y_bal = class_all_bal[\"Cover_Type\"].values\n",
    "\n",
    "# All data except \"class\" column.\n",
    "x_bal = class_all_bal.drop([\"Cover_Type\"], axis=1).values\n",
    "\n",
    "ohe = OneHotEncoder(sparse=False)\n",
    "tar= np.reshape(y_bal,(-1,1))\n",
    "tar = ohe.fit_transform(tar)\n",
    "\n",
    "X_tr_bal, X_va_bal, Y_tr_bal, Y_va_bal = train_test_split(x_bal,tar,test_size=0.25)\n",
    "\n",
    "# Print the shape of the split data\n",
    "print('training set == ',np.shape(X_tr_bal),np.shape(Y_tr_bal),',, validation set == ', np.shape(X_va_bal),np.shape(Y_va_bal))\n",
    "\n",
    "# for random forest, you'd want to validate with this balanced set \n",
    "# for ANN, you'd want to use only the balanced data, train the same model 10 times on different test sets, and then take the average of the results "
   ]
  },
  {
   "cell_type": "code",
   "execution_count": null,
   "id": "29d67e05-3eb2-4eed-878d-4e03f343ccac",
   "metadata": {},
   "outputs": [],
   "source": [
    "fig, (ax1, ax2) = plt.subplots(1,2, figsize=(10,5))\n",
    "\n",
    "colors = ['#a6cee3', '#1f78b4', '#b2df8a', '#33a02c', '#e7298a', '#e31a1c', '#fdbf6f', '#fb9a99', '#fb9a99', '#b2df8a', '#b2df8a']\n",
    "\n",
    "plt.subplot(1,2,1)\n",
    "#df_hist.Cover_Type.hist(figsize=(12, 9), bins=30, edgecolor=\"black\")\n",
    "cnts, values, bars = ax1.hist(df_hist.Cover_Type, edgecolor='k')\n",
    "for i, (cnt, value, bar) in enumerate(zip(cnts, values, bars)):\n",
    "    bar.set_facecolor(colors[i % len(colors)])\n",
    "plt.title('Unbalanced Data')\n",
    "ax1.set_xlabel(r'Cover Type')\n",
    "ax1.set_ylabel(r'Number of Samples')\n",
    "\n",
    "plt.subplot(1,2,2)\n",
    "cnts, values, bars = ax2.hist(class_all_bal.Cover_Type, edgecolor='k')\n",
    "for i, (cnt, value, bar) in enumerate(zip(cnts, values, bars)):\n",
    "    bar.set_facecolor(colors[i % len(colors)])\n",
    "plt.title('Balanced Data')\n",
    "ax2.set_xlabel(r'Cover Type')\n",
    "ax2.set_ylabel(r'Number of Samples')"
   ]
  },
  {
   "cell_type": "code",
   "execution_count": null,
   "id": "e0ebf162-28de-435b-95f2-c00d5fd2ae46",
   "metadata": {},
   "outputs": [],
   "source": [
    "def random_forest_class(X_tr, X_va, Y_tr, Y_va, n_est, max_d, min_samp):\n",
    "    \n",
    "    RFclass= RandomForestClassifier(n_estimators=n_est, criterion='entropy', max_depth=max_d, min_samples_leaf=min_samp, max_features='auto', max_leaf_nodes=None, min_impurity_decrease=0., bootstrap=True,\n",
    "                                n_jobs=None, verbose=0)\n",
    "    ## fitting the model:\n",
    "    RFclass.fit(X_tr, Y_tr)\n",
    "\n",
    "    ## predict the response for tr and va sets. We can have two outputs: probability (e.g.,PY_tr_prob ) and  the winner class (e.g.,PY_tr):\n",
    "    PY_tr_prob = RFclass.predict_proba(X_tr)\n",
    "    PY_tr = RFclass.predict(X_tr)\n",
    "\n",
    "    PY_va_prob = RFclass.predict_proba(X_va)\n",
    "    PY_va = RFclass.predict(X_va)\n",
    "    \n",
    "    return PY_tr_prob, PY_va_prob, PY_tr, PY_va\n"
   ]
  },
  {
   "cell_type": "code",
   "execution_count": null,
   "id": "d73e48df-6b64-46be-95c2-c0f829b67fed",
   "metadata": {},
   "outputs": [],
   "source": [
    "print(X_tr.shape)\n",
    "print(X_va_bal.shape)\n",
    "print(Y_tr.shape)\n",
    "print(Y_va_bal.shape)"
   ]
  },
  {
   "cell_type": "code",
   "execution_count": null,
   "id": "4e52bf83-9244-4b2f-973e-30b8482f5528",
   "metadata": {},
   "outputs": [],
   "source": [
    "PY_tr_prob, PY_va_prob, PY_tr, PY_va = random_forest_class(X_tr, X_va_bal, Y_tr, Y_va_bal, n_est=50, max_d=50, min_samp=10)"
   ]
  },
  {
   "cell_type": "code",
   "execution_count": null,
   "id": "703bf708-fc03-4be4-9eba-2a237bd4fb0b",
   "metadata": {},
   "outputs": [],
   "source": [
    "plt.figure(1)\n",
    "plt.hist(PY_tr_prob[0][Y_tr[:,0]==0,0],20,color = \"blue\",)\n",
    "plt.xlim([0,1])\n",
    "plt.legend(['Detections (TR)'])\n",
    "\n",
    "plt.figure(2)\n",
    "plt.hist(PY_tr_prob[0][Y_tr[:,0]==1,0],20,color = \"red\",)\n",
    "plt.xlim([0,1])\n",
    "plt.legend(['Non-detections (TR)'])\n",
    "\n",
    "## ----------------------------------------------------------------------\n",
    "## plot ROC  and estimate the are under the curve for the training set\n",
    "\n",
    "fpr = dict()\n",
    "tpr = dict()\n",
    "T=dict()\n",
    "roc_auc = dict()\n",
    "\n",
    "for i in range(2):\n",
    "    tpr[i], fpr[i], T[i] = roc_curve(Y_tr[:, i], PY_tr_prob[0][:, i])\n",
    "    roc_auc[i] = auc(fpr[i], tpr[i])\n",
    "\n",
    "plt.figure(3)\n",
    "\n",
    "cmap = cm.get_cmap(\"viridis\",50)\n",
    "plt.scatter(fpr[1], tpr[1], c=T[1],cmap=cmap,vmin=0.,vmax=1)\n",
    "plt.colorbar()\n",
    "plt.plot([-0.2,1.2],[-0.2,1.2], '--k')\n",
    "plt.xlim([-.02,1.02])\n",
    "plt.ylim([-.02,1.02])\n",
    "\n",
    "plt.xlabel('FPR')\n",
    "plt.ylabel('TPR')\n",
    "plt.title('Area Under the Curve = %.3f' %roc_auc[0])\n",
    "\n",
    "####----------------------------------------------------------------------plotting for validation set\n",
    "####----------------------------------------------------------------------\n",
    "####----------------------------------------------------------------------\n",
    "## Plot the prediccted distributions for the validation set \n",
    "\n",
    "plt.figure(6)\n",
    "plt.hist(PY_va_prob[0][Y_va[:,0]==0,0],20,color = \"blue\",)\n",
    "plt.xlim([0,1])\n",
    "plt.legend(['Detections (VA)'])\n",
    "\n",
    "plt.figure(7)\n",
    "plt.hist(PY_va_prob[0][Y_va[:,0]==1,0],20,color = \"red\",)\n",
    "plt.xlim([0,1])\n",
    "plt.legend(['Non-detections (VA)'])\n",
    "\n",
    "## ----------------------------------------------------------------------\n",
    "## plot ROC  and estimate the are under the curve for the validation set\n",
    "\n",
    "fpr = dict()\n",
    "tpr = dict()\n",
    "T=dict()\n",
    "roc_auc = dict()\n",
    "\n",
    "for i in range(2):\n",
    "    tpr[i], fpr[i], T[i] = roc_curve(Y_va[:, i], PY_va_prob[0][:, i])\n",
    "    roc_auc[i] = auc(fpr[i], tpr[i])\n",
    "\n",
    "plt.figure(8)\n",
    "cmap = cm.get_cmap(\"viridis\",50)\n",
    "plt.scatter(fpr[1], tpr[1], c=T[1],cmap=cmap,vmin=0.,vmax=1)\n",
    "plt.colorbar()\n",
    "plt.plot([-0.2,1.2],[-0.2,1.2], '--k')\n",
    "plt.xlim([-.02,1.02])\n",
    "plt.ylim([-.02,1.02])\n",
    "\n",
    "plt.xlabel('FPR')\n",
    "plt.ylabel('TPR')\n",
    "plt.title('Area Under the Curve = %.3f' %roc_auc[0])\n"
   ]
  },
  {
   "cell_type": "code",
   "execution_count": null,
   "id": "efc5a3b2-7d40-4d52-a566-9f4a2221a57c",
   "metadata": {},
   "outputs": [],
   "source": [
    "print(Y_tr)\n",
    "print(Y_tr.shape)"
   ]
  },
  {
   "cell_type": "code",
   "execution_count": null,
   "id": "493ec60a-d74b-49a5-b2bc-00a5cf64b7d5",
   "metadata": {},
   "outputs": [],
   "source": [
    "## Run t_SNE (with  dimensions=2 i.e., a new 2-d space) \n",
    "import time\n",
    "from sklearn.manifold import TSNE\n",
    "time_start = time.time()\n",
    "tsne = TSNE(n_components=2, verbose=1, perplexity=40, n_iter=300)#, verbose=1, perplexity=40, n_iter=300)\n",
    "tsne.fit(X_tr_bal)\n",
    "\n",
    "print ('t-SNE done! Time elapsed: {} seconds'.format(time.time()-time_start))"
   ]
  },
  {
   "cell_type": "code",
   "execution_count": null,
   "id": "769ecf7f-f176-4841-aa5a-7084963548bc",
   "metadata": {},
   "outputs": [],
   "source": [
    "tsne_results_tr= tsne.fit_transform(X_tr_bal)"
   ]
  },
  {
   "cell_type": "code",
   "execution_count": null,
   "id": "7ad9ec06-31de-4431-80f1-6c9ba991c058",
   "metadata": {},
   "outputs": [],
   "source": [
    "## see the examples on the selected 2-dim space \n",
    "\n",
    "Y_tr_flat = Y_tr_bal.argmax(axis=1)\n",
    "\n",
    "comX=0\n",
    "comY=1\n",
    "\n",
    "plt.figure(figsize=(12,8))\n",
    "plt.scatter(tsne_results_tr[:,comX], tsne_results_tr[:,comY],\n",
    "            c=Y_tr_flat, edgecolor='none', alpha=0.5,\n",
    "            cmap=plt.cm.get_cmap('nipy_spectral',10))\n",
    "plt.xlabel('component_ '+ str(comX))\n",
    "plt.ylabel('component_ '+str(comY))\n",
    "plt.colorbar();\n",
    "plt.title('Balanced Subset Data for Forest Cover Dataset: t-SNE')"
   ]
  },
  {
   "cell_type": "markdown",
   "id": "25d07db1-cf70-4ca1-b5f1-4111c4988870",
   "metadata": {
    "jp-MarkdownHeadingCollapsed": true,
    "tags": []
   },
   "source": [
    "## Mushroom Dataset"
   ]
  },
  {
   "cell_type": "markdown",
   "id": "1ee7b9ba-49c1-4c21-baf2-71101236cb57",
   "metadata": {},
   "source": [
    "https://archive.ics.uci.edu/ml/datasets/Secondary+Mushroom+Dataset"
   ]
  },
  {
   "cell_type": "code",
   "execution_count": null,
   "id": "7d3be83d-4b33-4a65-b9ff-56c7ba16bbff",
   "metadata": {},
   "outputs": [],
   "source": [
    "# Load in data and clean \n",
    "df_mushies = pd.read_csv('secondary_data.csv', delimiter=';')\n",
    "print(df_mushies.shape)\n",
    "nan_count = df_mushies.isna().sum().sum()\n",
    "print(nan_count)\n",
    "print(df_mushies.shape)\n",
    "df_mushies = df_mushies.dropna(axis=1, how='any')\n",
    "nan_count = df_mushies.isna().sum().sum()\n",
    "print(nan_count)\n",
    "print(df_mushies.shape)"
   ]
  },
  {
   "cell_type": "code",
   "execution_count": null,
   "id": "88148da4-0e42-44ee-9dec-f4fc4a8d15d5",
   "metadata": {},
   "outputs": [],
   "source": [
    "# This data is categorical \n",
    "df_mushies = df_mushies.astype('category')\n",
    "print(df_mushies)\n",
    "\n",
    "from sklearn.preprocessing import LabelEncoder\n",
    "labelencoder=LabelEncoder()\n",
    "for column in df_mushies.columns:\n",
    "    df_mushies[column] = labelencoder.fit_transform(df_mushies[column])\n",
    "\n",
    "df_mushies.head()"
   ]
  },
  {
   "cell_type": "code",
   "execution_count": null,
   "id": "3ae07cab-69a1-45c8-9fd8-f64bee6acffc",
   "metadata": {},
   "outputs": [],
   "source": [
    "# \"class\" column as numpy array.\n",
    "y = df_mushies[\"class\"].values\n",
    "print(type(y))\n",
    "\n",
    "# All data except \"class\" column.\n",
    "x = df_mushies.drop([\"class\"], axis=1).values\n",
    "print(x.shape)"
   ]
  },
  {
   "cell_type": "markdown",
   "id": "7b52da19-5fc7-4470-92a3-fdf9d2f959f5",
   "metadata": {},
   "source": [
    "Below is data visualization for the Houston weather dataset. The classification output would be a binary classification of \"rain\" or \"no rain\" for a given input example. I decided to include this, as it is a very good example of unbalanced data: there are many more non-rainy days than rainy days, and so before this data is used for classification, it will need to be balanced through a exercise such as bootstrapping."
   ]
  },
  {
   "cell_type": "markdown",
   "id": "9208a64f-0680-46db-9b57-dff9ea540013",
   "metadata": {},
   "source": [
    "# References\n",
    "\n"
   ]
  },
  {
   "cell_type": "markdown",
   "id": "06989f6d-dd35-4006-bf6c-9a149e290f8b",
   "metadata": {},
   "source": [
    "Bishop, C. M. (2006). Pattern recognition and machine learning. In Pattern recognition and machine learning. Springer.\n",
    "\n",
    "**Datasets:**\n",
    "\n",
    "Insley, S. J., Halliday, W. D., & de Jong, T. (2017). Seasonal Patterns in Ocean Ambient Noise near Sachs Harbour, Northwest Territories. Arctic, 70(3), 239–248. https://doi.org/10.14430/arctic4662\n",
    "\n",
    "https://archive.ics.uci.edu/ml/datasets/Secondary+Mushroom+Dataset\n"
   ]
  },
  {
   "cell_type": "markdown",
   "id": "d627e4c2-335c-4cdd-8843-d9da7ef0b5c6",
   "metadata": {},
   "source": [
    "ANN:\n",
    "Biased so need to balance data \n",
    "2000 samples from everything randomly\n",
    "Train on 2000 x N samples \n",
    "Do 10 times (w random)\n",
    "Regression: avg of results\n",
    "Random forest can handle unbalanced data  \n",
    "\n",
    "For all models: \n",
    "Unbalanced dataset needs to be balanced for validation \n",
    "Using the test train split, create 25%, and then from that split, get the smallest number, and then recreate the validation set from that"
   ]
  }
 ],
 "metadata": {
  "kernelspec": {
   "display_name": "phys555",
   "language": "python",
   "name": "phys555"
  },
  "language_info": {
   "codemirror_mode": {
    "name": "ipython",
    "version": 3
   },
   "file_extension": ".py",
   "mimetype": "text/x-python",
   "name": "python",
   "nbconvert_exporter": "python",
   "pygments_lexer": "ipython3",
   "version": "3.7.15"
  }
 },
 "nbformat": 4,
 "nbformat_minor": 5
}
