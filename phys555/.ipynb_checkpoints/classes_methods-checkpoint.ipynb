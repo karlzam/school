{
 "cells": [
  {
   "cell_type": "code",
   "execution_count": 1,
   "id": "6e63661c-2de0-4ff1-9153-d87e5de652a3",
   "metadata": {},
   "outputs": [],
   "source": [
    "class Robot:\n",
    "    def __init__(self, name, color, weight): # create a constructor for the class, usually use the same name for the variable, python standard\n",
    "        self.name = name\n",
    "        self.color = color\n",
    "        self.weight = weight\n",
    "    # method   \n",
    "    def introduce_self(self): # add self to any method within a class \n",
    "        print(\"My name is \" + self.name)         "
   ]
  },
  {
   "cell_type": "code",
   "execution_count": 2,
   "id": "81adc091-d3dc-4306-9def-27484b91d9fb",
   "metadata": {},
   "outputs": [],
   "source": [
    "# r1 = Robot()\n",
    "# r1.name = \"Tom\"\n",
    "# r1.color = \"red\"\n",
    "# r1.weight = 30\n",
    "\n",
    "# r2 = Robot()\n",
    "# r2.name = \"Jerry\"\n",
    "# r2.color = \"blue\"\n",
    "# r2.weight = 40"
   ]
  },
  {
   "cell_type": "code",
   "execution_count": 3,
   "id": "aeb41900-ef57-465d-b47e-5287d831520b",
   "metadata": {},
   "outputs": [],
   "source": [
    "r1 = Robot(\"Tom\", \"red\", 30) # creates a new robot object, with tom as it's name, etc\n",
    "r2 = Robot(\"Jerry\", \"blue\", 40)"
   ]
  },
  {
   "cell_type": "code",
   "execution_count": 4,
   "id": "efd3bf31-6ced-45fd-bad6-bafd26128db9",
   "metadata": {},
   "outputs": [
    {
     "name": "stdout",
     "output_type": "stream",
     "text": [
      "My name is Tom\n",
      "My name is Jerry\n"
     ]
    }
   ],
   "source": [
    "r1.introduce_self()\n",
    "r2.introduce_self()"
   ]
  },
  {
   "cell_type": "code",
   "execution_count": null,
   "id": "5b59b4ae-5ca9-4111-9d10-de140d56d6d0",
   "metadata": {},
   "outputs": [],
   "source": []
  }
 ],
 "metadata": {
  "kernelspec": {
   "display_name": "phys555",
   "language": "python",
   "name": "phys555"
  },
  "language_info": {
   "codemirror_mode": {
    "name": "ipython",
    "version": 3
   },
   "file_extension": ".py",
   "mimetype": "text/x-python",
   "name": "python",
   "nbconvert_exporter": "python",
   "pygments_lexer": "ipython3",
   "version": "3.7.15"
  }
 },
 "nbformat": 4,
 "nbformat_minor": 5
}
