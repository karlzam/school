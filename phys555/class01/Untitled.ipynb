{
 "cells": [
  {
   "cell_type": "markdown",
   "id": "38ede7d8-f49a-4a21-b18f-6dcd082aa25b",
   "metadata": {
    "tags": []
   },
   "source": [
    "# Class One \n",
    "\n",
    "*italics* \n",
    "**bold**\n",
    "- unordered list \n",
    "- unordered list \n",
    "\n",
    "1. list \n",
    "2. list \n",
    "\n",
    "> block quote \n",
    "\n",
    "--- \n",
    "horizontal line \n",
    "\n",
    "Type some `inline code` cool \n",
    "\n",
    "or a block of code with \n",
    "```\n",
    "Ooga booga \n",
    "```\n",
    "\n",
    "Equation $x^2 =3$\n",
    "\n",
    "Customized links [links](www.jupyter.org) \n",
    "\n"
   ]
  },
  {
   "cell_type": "code",
   "execution_count": null,
   "id": "4514b99b-958c-4180-a044-3df54e2e8272",
   "metadata": {},
   "outputs": [],
   "source": []
  },
  {
   "cell_type": "code",
   "execution_count": null,
   "id": "5cc64fb9-637d-4646-be89-6626428bed9f",
   "metadata": {},
   "outputs": [],
   "source": []
  }
 ],
 "metadata": {
  "kernelspec": {
   "display_name": "Python 3 (ipykernel)",
   "language": "python",
   "name": "python3"
  },
  "language_info": {
   "codemirror_mode": {
    "name": "ipython",
    "version": 3
   },
   "file_extension": ".py",
   "mimetype": "text/x-python",
   "name": "python",
   "nbconvert_exporter": "python",
   "pygments_lexer": "ipython3",
   "version": "3.7.13"
  }
 },
 "nbformat": 4,
 "nbformat_minor": 5
}
