{
 "cells": [
  {
   "cell_type": "code",
   "execution_count": 1,
   "id": "bbaea535",
   "metadata": {},
   "outputs": [
    {
     "name": "stdout",
     "output_type": "stream",
     "text": [
      "Done!\n"
     ]
    }
   ],
   "source": [
    "from sklearn.model_selection import GridSearchCV\n",
    "from sklearn.linear_model import LogisticRegression\n",
    "from sklearn.pipeline import Pipeline\n",
    "%matplotlib inline\n",
    "from sklearn.decomposition import PCA\n",
    "import pandas as pd\n",
    "import os\n",
    "import numpy as np\n",
    "import matplotlib.pyplot as plt\n",
    "from sklearn.preprocessing import StandardScaler, MinMaxScaler\n",
    "from pandas.plotting import scatter_matrix    \n",
    "from sklearn.neighbors import KNeighborsRegressor\n",
    "import matplotlib.pyplot as plt\n",
    "import numpy as np\n",
    "from sklearn import datasets, linear_model\n",
    "from sklearn.model_selection import train_test_split\n",
    "from sklearn import linear_model\n",
    "import sys\n",
    "from sklearn.neighbors import KNeighborsClassifier \n",
    "from scipy.interpolate import interp1d\n",
    "from matplotlib import pyplot as plt\n",
    "from sklearn.preprocessing import PolynomialFeatures\n",
    "from sklearn.metrics import plot_confusion_matrix\n",
    "import matplotlib.pyplot as plt\n",
    "from sklearn import datasets, metrics, model_selection, svm\n",
    "from sklearn.neural_network import MLPClassifier\n",
    "from sklearn.neural_network import MLPRegressor\n",
    "from sklearn.model_selection import GridSearchCV\n",
    "from sklearn.neighbors import KNeighborsClassifier\n",
    "from sklearn.pipeline import Pipeline\n",
    "from sklearn.preprocessing import OneHotEncoder\n",
    "print('Done!')"
   ]
  },
  {
   "cell_type": "code",
   "execution_count": 2,
   "id": "2d728151-4e07-44ce-b54c-9ab911c0a9c0",
   "metadata": {},
   "outputs": [],
   "source": [
    "def split_data_regression(X,Y):\n",
    "    # Split the input and target data into test and train, with 75% of the data going to training, and 25% of the data going to testing\n",
    "    X_tr, X_va, Y_tr, Y_va = train_test_split(X,Y.values.ravel(),test_size=0.25)\n",
    "\n",
    "    # Print the shape of the split data\n",
    "    print ('training set == ',np.shape(X_tr),np.shape(Y_tr),',, validation set == ', np.shape(X_va),np.shape(Y_va))\n",
    "    \n",
    "    # Normalize the data, as was done in Q2\n",
    "    scaler_S= StandardScaler().fit(X_tr)  # line #2\n",
    "    X_tr_Norm= scaler_S.transform(X_tr) # line # 3\n",
    "    X_va_Norm= scaler_S.transform(X_va)  # Line #4\n",
    "    \n",
    "    n_column = 2\n",
    "\n",
    "    # Plot a figure of the normalized training and validation set to ensure they represent the same distribution and spread\n",
    "    \n",
    "    fig = plt.figure(figsize=(15, 5))\n",
    "    \n",
    "    plt.subplot(1, 2, 1)\n",
    "    plt.hist(X_tr_Norm[:,n_column])\n",
    "    plt.title('Training set')\n",
    "    plt.ylabel('N')\n",
    "    plt.xlabel(\"X\"+str(n_column))\n",
    "\n",
    "    plt.subplot(1, 2, 2)\n",
    "    plt.hist(X_va_Norm[:,n_column])\n",
    "    plt.title('Validation set')\n",
    "    plt.ylabel('N')\n",
    "    plt.xlabel(\"X\"+str(n_column))\n",
    "    \n",
    "    return X_tr_Norm, X_va_Norm, Y_tr, Y_va"
   ]
  },
  {
   "cell_type": "code",
   "execution_count": 3,
   "id": "a122b405",
   "metadata": {},
   "outputs": [
    {
     "name": "stdout",
     "output_type": "stream",
     "text": [
      "(9982, 23)\n",
      "564\n",
      "Index(['10-100Hz', '100-1000Hz', '1-10kHz', '10-24kHz', '250Hz', '50-1000Hz',\n",
      "       'DewPt', 'RelHum', 'WindDir', 'WindSp', 'Pressure', 'Ice6km2',\n",
      "       'Ice19km2', 'Ice31km2', 'Ice106km2'],\n",
      "      dtype='object')\n",
      "Index(['Temperature'], dtype='object')\n",
      "training set ==  (7231, 15) (7231,) ,, validation set ==  (2411, 15) (2411,)\n"
     ]
    },
    {
     "data": {
      "image/png": "[encoded data removed]",
      "text/plain": [
       "<Figure size 1500x500 with 2 Axes>"
      ]
     },
     "metadata": {},
     "output_type": "display_data"
    }
   ],
   "source": [
    "df_SH = pd.read_excel('Ambient Sound Data Sachs Harbour 2015-2016.xlsx')\n",
    "print(df_SH.shape)\n",
    "\n",
    "# Count the existing nans\n",
    "nan_count = df_SH.isna().sum().sum()\n",
    "print(nan_count)\n",
    "\n",
    "# Drop non necessary columns \n",
    "df_SH = df_SH.drop(['Deployment', 'Year', 'Month', 'Day', 'Hour', 'DateTime', 'Ice'], axis=1)\n",
    "\n",
    "# Double check there are no nans \n",
    "df_SH = df_SH.dropna(axis=0)\n",
    "\n",
    "# Set temperature as the target variable\n",
    "var = ['Temperature']\n",
    "\n",
    "# Drop temperature out of the weather data, and set it as X\n",
    "X = df_SH.loc[:,df_SH.columns.drop(var)]\n",
    "print(X.columns)\n",
    "\n",
    "# Set the target (Y) to be temperature\n",
    "Y = df_SH[var].copy()\n",
    "print(Y.columns)\n",
    "\n",
    "# Call the split data function\n",
    "X_tr_Norm, X_va_Norm, Y_tr, Y_va = split_data_regression(X,Y)"
   ]
  },
  {
   "cell_type": "markdown",
   "id": "e6292e3f-9934-48c3-b59e-ff214a07b4a3",
   "metadata": {
    "tags": []
   },
   "source": [
    "## Regression"
   ]
  },
  {
   "cell_type": "code",
   "execution_count": 4,
   "id": "a84e5f9a",
   "metadata": {
    "tags": []
   },
   "outputs": [
    {
     "name": "stderr",
     "output_type": "stream",
     "text": [
      "C:\\Users\\Karlee\\miniconda3\\envs\\phys555\\lib\\site-packages\\sklearn\\neural_network\\_multilayer_perceptron.py:696: ConvergenceWarning: Stochastic Optimizer: Maximum iterations (200) reached and the optimization hasn't converged yet.\n",
      "  ConvergenceWarning,\n",
      "C:\\Users\\Karlee\\miniconda3\\envs\\phys555\\lib\\site-packages\\sklearn\\neural_network\\_multilayer_perceptron.py:696: ConvergenceWarning: Stochastic Optimizer: Maximum iterations (200) reached and the optimization hasn't converged yet.\n",
      "  ConvergenceWarning,\n",
      "C:\\Users\\Karlee\\miniconda3\\envs\\phys555\\lib\\site-packages\\sklearn\\neural_network\\_multilayer_perceptron.py:696: ConvergenceWarning: Stochastic Optimizer: Maximum iterations (200) reached and the optimization hasn't converged yet.\n",
      "  ConvergenceWarning,\n",
      "C:\\Users\\Karlee\\miniconda3\\envs\\phys555\\lib\\site-packages\\sklearn\\neural_network\\_multilayer_perceptron.py:696: ConvergenceWarning: Stochastic Optimizer: Maximum iterations (200) reached and the optimization hasn't converged yet.\n",
      "  ConvergenceWarning,\n",
      "C:\\Users\\Karlee\\miniconda3\\envs\\phys555\\lib\\site-packages\\sklearn\\neural_network\\_multilayer_perceptron.py:696: ConvergenceWarning: Stochastic Optimizer: Maximum iterations (200) reached and the optimization hasn't converged yet.\n",
      "  ConvergenceWarning,\n",
      "C:\\Users\\Karlee\\miniconda3\\envs\\phys555\\lib\\site-packages\\sklearn\\neural_network\\_multilayer_perceptron.py:696: ConvergenceWarning: Stochastic Optimizer: Maximum iterations (200) reached and the optimization hasn't converged yet.\n",
      "  ConvergenceWarning,\n",
      "C:\\Users\\Karlee\\miniconda3\\envs\\phys555\\lib\\site-packages\\sklearn\\neural_network\\_multilayer_perceptron.py:696: ConvergenceWarning: Stochastic Optimizer: Maximum iterations (200) reached and the optimization hasn't converged yet.\n",
      "  ConvergenceWarning,\n",
      "C:\\Users\\Karlee\\miniconda3\\envs\\phys555\\lib\\site-packages\\sklearn\\neural_network\\_multilayer_perceptron.py:696: ConvergenceWarning: Stochastic Optimizer: Maximum iterations (200) reached and the optimization hasn't converged yet.\n",
      "  ConvergenceWarning,\n",
      "C:\\Users\\Karlee\\miniconda3\\envs\\phys555\\lib\\site-packages\\sklearn\\neural_network\\_multilayer_perceptron.py:696: ConvergenceWarning: Stochastic Optimizer: Maximum iterations (200) reached and the optimization hasn't converged yet.\n",
      "  ConvergenceWarning,\n",
      "C:\\Users\\Karlee\\miniconda3\\envs\\phys555\\lib\\site-packages\\sklearn\\neural_network\\_multilayer_perceptron.py:696: ConvergenceWarning: Stochastic Optimizer: Maximum iterations (200) reached and the optimization hasn't converged yet.\n",
      "  ConvergenceWarning,\n",
      "C:\\Users\\Karlee\\miniconda3\\envs\\phys555\\lib\\site-packages\\sklearn\\neural_network\\_multilayer_perceptron.py:696: ConvergenceWarning: Stochastic Optimizer: Maximum iterations (200) reached and the optimization hasn't converged yet.\n",
      "  ConvergenceWarning,\n",
      "C:\\Users\\Karlee\\miniconda3\\envs\\phys555\\lib\\site-packages\\sklearn\\neural_network\\_multilayer_perceptron.py:696: ConvergenceWarning: Stochastic Optimizer: Maximum iterations (200) reached and the optimization hasn't converged yet.\n",
      "  ConvergenceWarning,\n",
      "C:\\Users\\Karlee\\miniconda3\\envs\\phys555\\lib\\site-packages\\sklearn\\neural_network\\_multilayer_perceptron.py:696: ConvergenceWarning: Stochastic Optimizer: Maximum iterations (200) reached and the optimization hasn't converged yet.\n",
      "  ConvergenceWarning,\n",
      "C:\\Users\\Karlee\\miniconda3\\envs\\phys555\\lib\\site-packages\\sklearn\\neural_network\\_multilayer_perceptron.py:696: ConvergenceWarning: Stochastic Optimizer: Maximum iterations (200) reached and the optimization hasn't converged yet.\n",
      "  ConvergenceWarning,\n",
      "C:\\Users\\Karlee\\miniconda3\\envs\\phys555\\lib\\site-packages\\sklearn\\neural_network\\_multilayer_perceptron.py:696: ConvergenceWarning: Stochastic Optimizer: Maximum iterations (200) reached and the optimization hasn't converged yet.\n",
      "  ConvergenceWarning,\n",
      "C:\\Users\\Karlee\\miniconda3\\envs\\phys555\\lib\\site-packages\\sklearn\\neural_network\\_multilayer_perceptron.py:696: ConvergenceWarning: Stochastic Optimizer: Maximum iterations (200) reached and the optimization hasn't converged yet.\n",
      "  ConvergenceWarning,\n",
      "C:\\Users\\Karlee\\miniconda3\\envs\\phys555\\lib\\site-packages\\sklearn\\neural_network\\_multilayer_perceptron.py:696: ConvergenceWarning: Stochastic Optimizer: Maximum iterations (200) reached and the optimization hasn't converged yet.\n",
      "  ConvergenceWarning,\n",
      "C:\\Users\\Karlee\\miniconda3\\envs\\phys555\\lib\\site-packages\\sklearn\\neural_network\\_multilayer_perceptron.py:696: ConvergenceWarning: Stochastic Optimizer: Maximum iterations (200) reached and the optimization hasn't converged yet.\n",
      "  ConvergenceWarning,\n",
      "C:\\Users\\Karlee\\miniconda3\\envs\\phys555\\lib\\site-packages\\sklearn\\neural_network\\_multilayer_perceptron.py:696: ConvergenceWarning: Stochastic Optimizer: Maximum iterations (200) reached and the optimization hasn't converged yet.\n",
      "  ConvergenceWarning,\n",
      "C:\\Users\\Karlee\\miniconda3\\envs\\phys555\\lib\\site-packages\\sklearn\\neural_network\\_multilayer_perceptron.py:696: ConvergenceWarning: Stochastic Optimizer: Maximum iterations (200) reached and the optimization hasn't converged yet.\n",
      "  ConvergenceWarning,\n",
      "C:\\Users\\Karlee\\miniconda3\\envs\\phys555\\lib\\site-packages\\sklearn\\neural_network\\_multilayer_perceptron.py:696: ConvergenceWarning: Stochastic Optimizer: Maximum iterations (200) reached and the optimization hasn't converged yet.\n",
      "  ConvergenceWarning,\n",
      "C:\\Users\\Karlee\\miniconda3\\envs\\phys555\\lib\\site-packages\\sklearn\\neural_network\\_multilayer_perceptron.py:696: ConvergenceWarning: Stochastic Optimizer: Maximum iterations (200) reached and the optimization hasn't converged yet.\n",
      "  ConvergenceWarning,\n",
      "C:\\Users\\Karlee\\miniconda3\\envs\\phys555\\lib\\site-packages\\sklearn\\neural_network\\_multilayer_perceptron.py:696: ConvergenceWarning: Stochastic Optimizer: Maximum iterations (200) reached and the optimization hasn't converged yet.\n",
      "  ConvergenceWarning,\n",
      "C:\\Users\\Karlee\\miniconda3\\envs\\phys555\\lib\\site-packages\\sklearn\\neural_network\\_multilayer_perceptron.py:696: ConvergenceWarning: Stochastic Optimizer: Maximum iterations (200) reached and the optimization hasn't converged yet.\n",
      "  ConvergenceWarning,\n",
      "C:\\Users\\Karlee\\miniconda3\\envs\\phys555\\lib\\site-packages\\sklearn\\neural_network\\_multilayer_perceptron.py:696: ConvergenceWarning: Stochastic Optimizer: Maximum iterations (200) reached and the optimization hasn't converged yet.\n",
      "  ConvergenceWarning,\n",
      "C:\\Users\\Karlee\\miniconda3\\envs\\phys555\\lib\\site-packages\\sklearn\\neural_network\\_multilayer_perceptron.py:696: ConvergenceWarning: Stochastic Optimizer: Maximum iterations (200) reached and the optimization hasn't converged yet.\n",
      "  ConvergenceWarning,\n"
     ]
    },
    {
     "data": {
      "text/plain": [
       "{'ANNreg__alpha': 0.0001,\n",
       " 'ANNreg__hidden_layer_sizes': (20, 20),\n",
       " 'ANNreg__solver': 'adam'}"
      ]
     },
     "execution_count": 4,
     "metadata": {},
     "output_type": "execute_result"
    }
   ],
   "source": [
    "#clf = MLPClassifier(solver='adam', alpha=1e-5,\n",
    "#                    hidden_layer_sizes=(100,50), max_iter=1,\n",
    "#                   early_stopping=False, validation_fraction=0.1 )\n",
    "\n",
    "# ANN_reg_pipeline = Pipeline([('STD', StandardScaler()),('ANNreg', MLPRegressor())])\n",
    "ANN_reg_pipeline = Pipeline([('ANNreg', MLPRegressor())])\n",
    "\n",
    "params = [{'ANNreg__alpha':[1, .1, .01, .001,.0001],'ANNreg__solver': ['adam'], 'ANNreg__hidden_layer_sizes':[(20,20)]}]\n",
    "\n",
    "gs_ann_reg = GridSearchCV(ANN_reg_pipeline,\n",
    "                      param_grid=params,\n",
    "                      scoring='neg_root_mean_squared_error',\n",
    "                      cv=5)\n",
    "#,'ANNreg__solver': 'lbfgs', 'ANNreg__hidden_layer_sizes':(20,20)\n",
    "gs_ann_reg.fit(X_tr_Norm, Y_tr)\n",
    "\n",
    "gs_ann_reg.best_params_"
   ]
  },
  {
   "cell_type": "markdown",
   "id": "d59070aa-ec10-488d-8119-9cf3acf3e638",
   "metadata": {
    "tags": []
   },
   "source": [
    "## Classification Dataset"
   ]
  },
  {
   "cell_type": "code",
   "execution_count": 5,
   "id": "5c965314-0b8c-4006-9af2-7f14cc879be5",
   "metadata": {},
   "outputs": [
    {
     "name": "stdout",
     "output_type": "stream",
     "text": [
      "(581012, 55)\n",
      "Index(['Elevation', 'Aspect', 'Slope', 'Horizontal_Distance_To_Hydrology',\n",
      "       'Vertical_Distance_To_Hydrology', 'Horizontal_Distance_To_Roadways',\n",
      "       'Hillshade_9am', 'Hillshade_Noon', 'Hillshade_3pm',\n",
      "       'Horizontal_Distance_To_Fire_Points', 'Wilderness_Area1',\n",
      "       'Wilderness_Area2', 'Wilderness_Area3', 'Wilderness_Area4',\n",
      "       'Soil_Type1', 'Soil_Type2', 'Soil_Type3', 'Soil_Type4', 'Soil_Type5',\n",
      "       'Soil_Type6', 'Soil_Type7', 'Soil_Type8', 'Soil_Type9', 'Soil_Type10',\n",
      "       'Soil_Type11', 'Soil_Type12', 'Soil_Type13', 'Soil_Type14',\n",
      "       'Soil_Type15', 'Soil_Type16', 'Soil_Type17', 'Soil_Type18',\n",
      "       'Soil_Type19', 'Soil_Type20', 'Soil_Type21', 'Soil_Type22',\n",
      "       'Soil_Type23', 'Soil_Type24', 'Soil_Type25', 'Soil_Type26',\n",
      "       'Soil_Type27', 'Soil_Type28', 'Soil_Type29', 'Soil_Type30',\n",
      "       'Soil_Type31', 'Soil_Type32', 'Soil_Type33', 'Soil_Type34',\n",
      "       'Soil_Type35', 'Soil_Type36', 'Soil_Type37', 'Soil_Type38',\n",
      "       'Soil_Type39', 'Soil_Type40', 'Cover_Type'],\n",
      "      dtype='object')\n",
      "<class 'numpy.ndarray'>\n",
      "(581012, 54)\n",
      "training set ==  (435759, 54) (435759, 7) ,, validation set ==  (145253, 54) (145253, 7)\n"
     ]
    }
   ],
   "source": [
    "covtype = pd.read_csv('covtype.csv')\n",
    "print(covtype.shape)\n",
    "print(covtype.columns)\n",
    "\n",
    "# \"class\" column as numpy array.\n",
    "y = covtype[\"Cover_Type\"].values\n",
    "print(type(y))\n",
    "\n",
    "# All data except \"class\" column.\n",
    "x = covtype.drop([\"Cover_Type\"], axis=1).values\n",
    "print(x.shape)\n",
    "\n",
    "ohe = OneHotEncoder(sparse=False)\n",
    "tar= np.reshape(y,(-1,1))\n",
    "tar = ohe.fit_transform(tar)\n",
    "\n",
    "# Split data for train and test.\n",
    "X_tr, X_va, Y_tr, Y_va = train_test_split(x, tar, test_size=0.25)\n",
    "\n",
    "print ('training set == ',np.shape(X_tr),np.shape(Y_tr),',, validation set == ', np.shape(X_va),np.shape(Y_va))\n",
    "    \n",
    "scaler_S= StandardScaler().fit(X_tr)  # line #2\n",
    "X_tr_Norm= scaler_S.transform(X_tr) # line # 3\n",
    "X_va_Norm= scaler_S.transform(X_va)  "
   ]
  },
  {
   "cell_type": "code",
   "execution_count": null,
   "id": "85699efb",
   "metadata": {},
   "outputs": [],
   "source": [
    "# set up the pipeline\n",
    "knn_pipeline = Pipeline([('KNN', KNeighborsClassifier())])\n",
    "\n",
    "# choose the parameters that you would like to optimize:\n",
    "\n",
    "params = [{'KNN__n_neighbors': [9,11,13,15,30,50,100],\n",
    "         'KNN__p': [1, 2],\n",
    "          }]\n",
    "# # use GridSearchCV and the right meteric for classification or regression\n",
    "gs_knn = GridSearchCV(knn_pipeline,\n",
    "                      param_grid=params,\n",
    "                      scoring='accuracy',\n",
    "                      cv=5)\n",
    "# run pipleline and fit the model\n",
    "gs_knn.fit(X_tr_Norm, Y_tr)\n",
    "\n",
    "#The best parameters of the optimization\n",
    "gs_knn.best_params_"
   ]
  },
  {
   "cell_type": "code",
   "execution_count": null,
   "id": "2169985a",
   "metadata": {},
   "outputs": [],
   "source": [
    "knn_pipeline = Pipeline([('PCA', PCA()),\n",
    "                         ('KNN', KNeighborsClassifier() )])\n",
    "\n",
    "params = [{'PCA__n_components':[.7, .9, .999], 'KNN__n_neighbors': [15,30,50,100],\n",
    "         'KNN__p': [1, 2],\n",
    "          }]\n",
    "\n",
    "gs_knn = GridSearchCV(knn_pipeline,\n",
    "                      param_grid=params,\n",
    "                      scoring='accuracy',\n",
    "                      cv=5)\n",
    "\n",
    "gs_knn.fit(X_tr_Norm, Y_tr)\n",
    "\n",
    "gs_knn.best_params_"
   ]
  },
  {
   "cell_type": "code",
   "execution_count": null,
   "id": "b4fb6e2a",
   "metadata": {},
   "outputs": [],
   "source": [
    "# reg = MLPRegressor(hidden_layer_sizes=(100,50,), max_iter=50000, \n",
    "#                        activation='relu',solver='adam',tol=.00000001,alpha=.00007,early_stopping=True, \n",
    "#                        validation_fraction=0.1, learning_rate= 'constant',learning_rate_init=.001)\n",
    "\n",
    "ANN_cls_pipeline = Pipeline([('ANNcls', MLPClassifier())])\n",
    "\n",
    "params = [{'ANNcls__solver':['adam','sgd','lbfgs']}]\n",
    "\n",
    "gs_ann_cls = GridSearchCV(ANN_cls_pipeline,\n",
    "                      param_grid=params,\n",
    "                      scoring='accuracy',\n",
    "                      cv=5)\n",
    "\n",
    "gs_ann_cls.fit(X_tr_Norm, Y_tr)\n",
    "\n",
    "gs_ann_cls.best_params_"
   ]
  },
  {
   "cell_type": "markdown",
   "id": "12ef8304",
   "metadata": {},
   "source": [
    "# Use ANN regression and find the best alpha and solver\n",
    "# Do the same with ANN classification\n",
    "# Do classification with KNN and finf the best K and P\n",
    "# Do the same with KNN regession\n"
   ]
  },
  {
   "cell_type": "code",
   "execution_count": null,
   "id": "b0663b6a",
   "metadata": {},
   "outputs": [],
   "source": []
  }
 ],
 "metadata": {
  "kernelspec": {
   "display_name": "phys555",
   "language": "python",
   "name": "phys555"
  },
  "language_info": {
   "codemirror_mode": {
    "name": "ipython",
    "version": 3
   },
   "file_extension": ".py",
   "mimetype": "text/x-python",
   "name": "python",
   "nbconvert_exporter": "python",
   "pygments_lexer": "ipython3",
   "version": "3.7.15"
  }
 },
 "nbformat": 4,
 "nbformat_minor": 5
}
