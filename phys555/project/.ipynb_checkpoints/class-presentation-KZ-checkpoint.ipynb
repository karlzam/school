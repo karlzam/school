{
 "cells": [
  {
   "cell_type": "markdown",
   "id": "a4a3208f-7e35-4f80-9234-82763f1bbf8d",
   "metadata": {},
   "source": [
    "# Regression and Classification\n",
    "Karlee Zammit - V00823093"
   ]
  },
  {
   "cell_type": "code",
   "execution_count": 1,
   "id": "849d625a-6b8c-4211-9c91-1d827164be68",
   "metadata": {},
   "outputs": [],
   "source": [
    "# Import the necessary packages\n",
    "import pandas as pd\n",
    "import numpy as np\n",
    "import matplotlib.pyplot as plt\n",
    "from sklearn.preprocessing import StandardScaler, MinMaxScaler\n",
    "from sklearn.decomposition import PCA\n",
    "import seaborn as sns\n",
    "from sklearn import model_selection as md\n",
    "from sklearn import preprocessing\n",
    "from sklearn.ensemble import RandomForestRegressor\n",
    "from sklearn.ensemble import RandomForestClassifier\n",
    "from sklearn.datasets import make_classification\n",
    "from sklearn.model_selection import train_test_split\n",
    "from matplotlib import cm\n",
    "from sklearn.metrics import roc_curve, auc\n",
    "from sklearn.neighbors import KNeighborsClassifier\n",
    "from sklearn.metrics import confusion_matrix\n",
    "import itertools\n",
    "from sklearn.model_selection import train_test_split\n",
    "from sklearn.preprocessing import OneHotEncoder"
   ]
  },
  {
   "cell_type": "markdown",
   "id": "c9d21eaf-e716-440a-95ed-b900357ef40c",
   "metadata": {
    "tags": []
   },
   "source": [
    "# Regression\n",
    "\n",
    "## Sachs Harbour Dataset"
   ]
  },
  {
   "cell_type": "code",
   "execution_count": 4,
   "id": "21603bc5-9452-458a-af47-2ef1d20d91d1",
   "metadata": {},
   "outputs": [
    {
     "name": "stdout",
     "output_type": "stream",
     "text": [
      "(9982, 23)\n",
      "564\n",
      "(9642, 16)\n"
     ]
    }
   ],
   "source": [
    "# Load in the data csv and print it's shape\n",
    "df_SH = pd.read_excel('Ambient Sound Data Sachs Harbour 2015-2016.xlsx')\n",
    "print(df_SH.shape)\n",
    "\n",
    "# Count the existing nans\n",
    "nan_count = df_SH.isna().sum().sum()\n",
    "print(nan_count)\n",
    "\n",
    "# Drop non necessary columns \n",
    "df_SH = df_SH.drop(['Deployment', 'Year', 'Month', 'Day', 'Hour', 'DateTime', 'Ice'], axis=1)\n",
    "\n",
    "# Double check there are no nans \n",
    "df_SH=df_SH.dropna(axis=0)\n",
    "\n",
    "# Plot a histogram of the data\n",
    "#df_SH.hist(figsize=(14, 12), bins=30, edgecolor=\"black\")\n",
    "print(df_SH.shape)"
   ]
  },
  {
   "cell_type": "code",
   "execution_count": 5,
   "id": "910870e7-ff5a-4b53-a315-6a3177d4b106",
   "metadata": {},
   "outputs": [
    {
     "name": "stdout",
     "output_type": "stream",
     "text": [
      "Index(['10-100Hz', '100-1000Hz', '1-10kHz', '10-24kHz', '250Hz', '50-1000Hz',\n",
      "       'DewPt', 'RelHum', 'WindDir', 'WindSp', 'Pressure', 'Ice6km2',\n",
      "       'Ice19km2', 'Ice31km2', 'Ice106km2'],\n",
      "      dtype='object')\n",
      "Index(['Temperature'], dtype='object')\n",
      "training set ==  (7231, 15) (7231,) ,, validation set ==  (2411, 15) (2411,)\n"
     ]
    },
    {
     "data": {
      "image/png": "[encoded data removed]",
      "text/plain": [
       "<Figure size 1500x500 with 2 Axes>"
      ]
     },
     "metadata": {},
     "output_type": "display_data"
    }
   ],
   "source": [
    "# Set temperature as the target variable\n",
    "var = ['Temperature']\n",
    "\n",
    "# Drop temperature out of the weather data, and set it as X\n",
    "X = df_SH.loc[:,df_SH.columns.drop(var)]\n",
    "print(X.columns)\n",
    "\n",
    "# Set the target (Y) to be temperature\n",
    "Y = df_SH[var].copy()\n",
    "print(Y.columns)\n",
    "\n",
    "# Call the split data function\n",
    "X_tr_Norm, X_va_Norm, Y_tr, Y_va = split_data(X,Y)"
   ]
  },
  {
   "cell_type": "markdown",
   "id": "553ae5aa-89f7-4e7b-a85c-b85833dd1299",
   "metadata": {
    "tags": []
   },
   "source": [
    "# Classification"
   ]
  },
  {
   "cell_type": "markdown",
   "id": "25d07db1-cf70-4ca1-b5f1-4111c4988870",
   "metadata": {},
   "source": [
    "## Mushroom Dataset"
   ]
  },
  {
   "cell_type": "markdown",
   "id": "1ee7b9ba-49c1-4c21-baf2-71101236cb57",
   "metadata": {},
   "source": [
    "https://archive.ics.uci.edu/ml/datasets/Secondary+Mushroom+Dataset"
   ]
  },
  {
   "cell_type": "code",
   "execution_count": 7,
   "id": "7d3be83d-4b33-4a65-b9ff-56c7ba16bbff",
   "metadata": {},
   "outputs": [
    {
     "name": "stdout",
     "output_type": "stream",
     "text": [
      "(61069, 21)\n",
      "307463\n",
      "(61069, 21)\n",
      "0\n",
      "(61069, 12)\n"
     ]
    }
   ],
   "source": [
    "# Load in data and clean \n",
    "df_mushies = pd.read_csv('secondary_data.csv', delimiter=';')\n",
    "print(df_mushies.shape)\n",
    "nan_count = df_mushies.isna().sum().sum()\n",
    "print(nan_count)\n",
    "print(df_mushies.shape)\n",
    "df_mushies = df_mushies.dropna(axis=1, how='any')\n",
    "nan_count = df_mushies.isna().sum().sum()\n",
    "print(nan_count)\n",
    "print(df_mushies.shape)"
   ]
  },
  {
   "cell_type": "code",
   "execution_count": 8,
   "id": "88148da4-0e42-44ee-9dec-f4fc4a8d15d5",
   "metadata": {},
   "outputs": [
    {
     "name": "stdout",
     "output_type": "stream",
     "text": [
      "      class cap-diameter cap-shape cap-color does-bruise-or-bleed gill-color  \\\n",
      "0         p        15.26         x         o                    f          w   \n",
      "1         p        16.60         x         o                    f          w   \n",
      "2         p        14.07         x         o                    f          w   \n",
      "3         p        14.17         f         e                    f          w   \n",
      "4         p        14.64         x         o                    f          w   \n",
      "...     ...          ...       ...       ...                  ...        ...   \n",
      "61064     p         1.18         s         y                    f          f   \n",
      "61065     p         1.27         f         y                    f          f   \n",
      "61066     p         1.27         s         y                    f          f   \n",
      "61067     p         1.24         f         y                    f          f   \n",
      "61068     p         1.17         s         y                    f          f   \n",
      "\n",
      "      stem-height stem-width stem-color has-ring habitat season  \n",
      "0           16.95      17.09          w        t       d      w  \n",
      "1           17.99      18.19          w        t       d      u  \n",
      "2           17.80      17.74          w        t       d      w  \n",
      "3           15.77      15.98          w        t       d      w  \n",
      "4           16.53      17.20          w        t       d      w  \n",
      "...           ...        ...        ...      ...     ...    ...  \n",
      "61064        3.93       6.22          y        f       d      a  \n",
      "61065        3.18       5.43          y        f       d      a  \n",
      "61066        3.86       6.37          y        f       d      u  \n",
      "61067        3.56       5.44          y        f       d      u  \n",
      "61068        3.25       5.45          y        f       d      u  \n",
      "\n",
      "[61069 rows x 12 columns]\n"
     ]
    },
    {
     "data": {
      "text/html": [
       "<div>\n",
       "<style scoped>\n",
       "    .dataframe tbody tr th:only-of-type {\n",
       "        vertical-align: middle;\n",
       "    }\n",
       "\n",
       "    .dataframe tbody tr th {\n",
       "        vertical-align: top;\n",
       "    }\n",
       "\n",
       "    .dataframe thead th {\n",
       "        text-align: right;\n",
       "    }\n",
       "</style>\n",
       "<table border=\"1\" class=\"dataframe\">\n",
       "  <thead>\n",
       "    <tr style=\"text-align: right;\">\n",
       "      <th></th>\n",
       "      <th>class</th>\n",
       "      <th>cap-diameter</th>\n",
       "      <th>cap-shape</th>\n",
       "      <th>cap-color</th>\n",
       "      <th>does-bruise-or-bleed</th>\n",
       "      <th>gill-color</th>\n",
       "      <th>stem-height</th>\n",
       "      <th>stem-width</th>\n",
       "      <th>stem-color</th>\n",
       "      <th>has-ring</th>\n",
       "      <th>habitat</th>\n",
       "      <th>season</th>\n",
       "    </tr>\n",
       "  </thead>\n",
       "  <tbody>\n",
       "    <tr>\n",
       "      <th>0</th>\n",
       "      <td>1</td>\n",
       "      <td>1481</td>\n",
       "      <td>6</td>\n",
       "      <td>6</td>\n",
       "      <td>0</td>\n",
       "      <td>10</td>\n",
       "      <td>1577</td>\n",
       "      <td>1656</td>\n",
       "      <td>11</td>\n",
       "      <td>1</td>\n",
       "      <td>0</td>\n",
       "      <td>3</td>\n",
       "    </tr>\n",
       "    <tr>\n",
       "      <th>1</th>\n",
       "      <td>1</td>\n",
       "      <td>1614</td>\n",
       "      <td>6</td>\n",
       "      <td>6</td>\n",
       "      <td>0</td>\n",
       "      <td>10</td>\n",
       "      <td>1681</td>\n",
       "      <td>1766</td>\n",
       "      <td>11</td>\n",
       "      <td>1</td>\n",
       "      <td>0</td>\n",
       "      <td>2</td>\n",
       "    </tr>\n",
       "    <tr>\n",
       "      <th>2</th>\n",
       "      <td>1</td>\n",
       "      <td>1362</td>\n",
       "      <td>6</td>\n",
       "      <td>6</td>\n",
       "      <td>0</td>\n",
       "      <td>10</td>\n",
       "      <td>1662</td>\n",
       "      <td>1721</td>\n",
       "      <td>11</td>\n",
       "      <td>1</td>\n",
       "      <td>0</td>\n",
       "      <td>3</td>\n",
       "    </tr>\n",
       "    <tr>\n",
       "      <th>3</th>\n",
       "      <td>1</td>\n",
       "      <td>1372</td>\n",
       "      <td>2</td>\n",
       "      <td>1</td>\n",
       "      <td>0</td>\n",
       "      <td>10</td>\n",
       "      <td>1463</td>\n",
       "      <td>1545</td>\n",
       "      <td>11</td>\n",
       "      <td>1</td>\n",
       "      <td>0</td>\n",
       "      <td>3</td>\n",
       "    </tr>\n",
       "    <tr>\n",
       "      <th>4</th>\n",
       "      <td>1</td>\n",
       "      <td>1419</td>\n",
       "      <td>6</td>\n",
       "      <td>6</td>\n",
       "      <td>0</td>\n",
       "      <td>10</td>\n",
       "      <td>1537</td>\n",
       "      <td>1667</td>\n",
       "      <td>11</td>\n",
       "      <td>1</td>\n",
       "      <td>0</td>\n",
       "      <td>3</td>\n",
       "    </tr>\n",
       "  </tbody>\n",
       "</table>\n",
       "</div>"
      ],
      "text/plain": [
       "   class  cap-diameter  cap-shape  cap-color  does-bruise-or-bleed  \\\n",
       "0      1          1481          6          6                     0   \n",
       "1      1          1614          6          6                     0   \n",
       "2      1          1362          6          6                     0   \n",
       "3      1          1372          2          1                     0   \n",
       "4      1          1419          6          6                     0   \n",
       "\n",
       "   gill-color  stem-height  stem-width  stem-color  has-ring  habitat  season  \n",
       "0          10         1577        1656          11         1        0       3  \n",
       "1          10         1681        1766          11         1        0       2  \n",
       "2          10         1662        1721          11         1        0       3  \n",
       "3          10         1463        1545          11         1        0       3  \n",
       "4          10         1537        1667          11         1        0       3  "
      ]
     },
     "execution_count": 8,
     "metadata": {},
     "output_type": "execute_result"
    }
   ],
   "source": [
    "# This data is categorical \n",
    "df_mushies = df_mushies.astype('category')\n",
    "print(df_mushies)\n",
    "\n",
    "from sklearn.preprocessing import LabelEncoder\n",
    "labelencoder=LabelEncoder()\n",
    "for column in df_mushies.columns:\n",
    "    df_mushies[column] = labelencoder.fit_transform(df_mushies[column])\n",
    "\n",
    "df_mushies.head()"
   ]
  },
  {
   "cell_type": "code",
   "execution_count": null,
   "id": "3ae07cab-69a1-45c8-9fd8-f64bee6acffc",
   "metadata": {},
   "outputs": [],
   "source": [
    "# \"class\" column as numpy array.\n",
    "y = df_mushies[\"class\"].values\n",
    "print(type(y))\n",
    "\n",
    "# All data except \"class\" column.\n",
    "x = df_mushies.drop([\"class\"], axis=1).values\n",
    "print(x.shape)"
   ]
  },
  {
   "cell_type": "markdown",
   "id": "7b52da19-5fc7-4470-92a3-fdf9d2f959f5",
   "metadata": {},
   "source": [
    "Below is data visualization for the Houston weather dataset. The classification output would be a binary classification of \"rain\" or \"no rain\" for a given input example. I decided to include this, as it is a very good example of unbalanced data: there are many more non-rainy days than rainy days, and so before this data is used for classification, it will need to be balanced through a exercise such as bootstrapping."
   ]
  },
  {
   "cell_type": "markdown",
   "id": "9208a64f-0680-46db-9b57-dff9ea540013",
   "metadata": {},
   "source": [
    "# References\n",
    "\n"
   ]
  },
  {
   "cell_type": "markdown",
   "id": "06989f6d-dd35-4006-bf6c-9a149e290f8b",
   "metadata": {},
   "source": [
    "Bishop, C. M. (2006). Pattern recognition and machine learning. In Pattern recognition and machine learning. Springer.\n",
    "\n",
    "**Datasets:**\n",
    "\n",
    "Insley, S. J., Halliday, W. D., & de Jong, T. (2017). Seasonal Patterns in Ocean Ambient Noise near Sachs Harbour, Northwest Territories. Arctic, 70(3), 239–248. https://doi.org/10.14430/arctic4662\n",
    "\n",
    "https://archive.ics.uci.edu/ml/datasets/Secondary+Mushroom+Dataset\n"
   ]
  },
  {
   "cell_type": "code",
   "execution_count": null,
   "id": "3d033746-9fbb-4e84-af69-64ca3a65eaa3",
   "metadata": {},
   "outputs": [],
   "source": []
  }
 ],
 "metadata": {
  "kernelspec": {
   "display_name": "phys555",
   "language": "python",
   "name": "phys555"
  },
  "language_info": {
   "codemirror_mode": {
    "name": "ipython",
    "version": 3
   },
   "file_extension": ".py",
   "mimetype": "text/x-python",
   "name": "python",
   "nbconvert_exporter": "python",
   "pygments_lexer": "ipython3",
   "version": "3.7.15"
  }
 },
 "nbformat": 4,
 "nbformat_minor": 5
}
