{
 "cells": [
  {
   "cell_type": "code",
   "execution_count": null,
   "id": "228a22eb-40cc-4993-9e36-5173169b886c",
   "metadata": {
    "tags": []
   },
   "outputs": [],
   "source": [
    "# Matlab code \n",
    "\n",
    "close all\n",
    "clear all\n",
    "clc\n",
    "\n",
    "% Load one of images to work with sizes\n",
    "input_image = readImage(strcat('train/', '1.jpg'));\n",
    "\n",
    "% Number of individuals\n",
    "N = 5; \n",
    "% Size of each image\n",
    "M  = size(input_image, 1) * size(input_image, 2);\n",
    "\n",
    "\n",
    "% Creating the train data matrix\n",
    "S = zeros(M, N); \n",
    "for i = 1:N\n",
    "    temp = readImage(sprintf('train/%d.jpg', i));\n",
    "    S(:, i) = temp(:);\n",
    "end\n",
    "\n",
    "% Computing the mean image of train data\n",
    "train_mean = mean(S, 2);\n",
    "imwrite(uint8(train_mean(:, ones(1, N))), 'mean.jpg');\n",
    "\n",
    "% Normalizing images by subtracting mean\n",
    "A = S - train_mean(:, ones(1, N));\n",
    "\n",
    "% Performing the Singular Value Decomposition over A\n",
    "[u, s, v] = svd(A);\n",
    "\n",
    "% Computing coordinate vector xi for each known individual\n",
    "rank = size(A, 2); \n",
    "xi = u(:, 1:rank)' * A;\n",
    "\n",
    "% Defining thresholds, these values were defined by trial and error\n",
    "epsilon_0 = 50; % Maximum allowable distance from any known face in the training set S\n",
    "epsilon_1 = 15; % Maximum allowable distance from face space\n",
    "\n",
    "% Classification\n",
    "images = ['1' '3' '5' '11' '25' '38' 'nothing' 'U1' 'U2' 'U3']; % Test Images Available\n",
    "epsilons = zeros(N, 1);\n",
    "test_image = readImage('test/3.jpg');\n",
    "test_image = test_image(:) - train_mean; % Normalizing test image\n",
    "x = u(:, 1:rank)' * test_image; % Calculating coordinate vector x of test image\n",
    "epsilon_f = ((test_image - u(:, 1:rank) * x)' * (test_image - u(:, 1:rank) * x)) ^ 0.5;\n",
    "\n",
    "% Checks if it is in face space\n",
    "if epsilon_f < epsilon_1\n",
    "    % Computing distance epsilon_i to the face space\n",
    "    for i = 1:N\n",
    "        epsilons(i, 1) = (xi(:, i) - x)' * (xi(:, i) - x);\n",
    "    end\n",
    "    [val idx] = min(epsilons(:, 1));\n",
    "    if val < epsilon_0\n",
    "        disp(sprintf('The face belongs to %d', idx));\n",
    "    else\n",
    "        disp('Unknown face');\n",
    "    end\n",
    "else\n",
    "    disp('Input image is not a face');\n",
    "end"
   ]
  }
 ],
 "metadata": {
  "kernelspec": {
   "display_name": "phys555",
   "language": "python",
   "name": "phys555"
  },
  "language_info": {
   "codemirror_mode": {
    "name": "ipython",
    "version": 3
   },
   "file_extension": ".py",
   "mimetype": "text/x-python",
   "name": "python",
   "nbconvert_exporter": "python",
   "pygments_lexer": "ipython3",
   "version": "3.7.15"
  }
 },
 "nbformat": 4,
 "nbformat_minor": 5
}
