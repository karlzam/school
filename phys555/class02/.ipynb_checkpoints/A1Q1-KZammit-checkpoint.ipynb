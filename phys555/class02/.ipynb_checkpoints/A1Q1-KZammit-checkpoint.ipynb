{
 "cells": [
  {
   "cell_type": "markdown",
   "id": "a4a3208f-7e35-4f80-9234-82763f1bbf8d",
   "metadata": {},
   "source": [
    "# Phys555 Assignment 1 Question 1"
   ]
  },
  {
   "cell_type": "markdown",
   "id": "f595cd43-ea6d-4b10-84a1-5d85c72e7914",
   "metadata": {},
   "source": [
    "Q1- Use PCA for the alfalfa and wine data set. Plot the explained variance ratio vs. the principle components for each data set.  \n",
    "- Explanation of the problem and data as an introduction (2 points)\n",
    "- Informative plots, the caption, labels, the explanations (2 points)\n",
    "- Explaining/discussing the results (2 points)\n",
    "- Coherence and informative cells: clear code with a very short explanation to follow the code (2 points)\n",
    "- Conclusion/references (2 points)"
   ]
  },
  {
   "cell_type": "code",
   "execution_count": null,
   "id": "a8bd55d9-3312-4091-a5b2-b831c5ad5474",
   "metadata": {},
   "outputs": [],
   "source": []
  }
 ],
 "metadata": {
  "kernelspec": {
   "display_name": "phys555",
   "language": "python",
   "name": "phys555"
  },
  "language_info": {
   "codemirror_mode": {
    "name": "ipython",
    "version": 3
   },
   "file_extension": ".py",
   "mimetype": "text/x-python",
   "name": "python",
   "nbconvert_exporter": "python",
   "pygments_lexer": "ipython3",
   "version": "3.7.15"
  }
 },
 "nbformat": 4,
 "nbformat_minor": 5
}
