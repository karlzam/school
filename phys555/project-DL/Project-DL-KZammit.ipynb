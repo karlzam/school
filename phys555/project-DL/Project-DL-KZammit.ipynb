{
 "cells": [
  {
   "cell_type": "markdown",
   "metadata": {},
   "source": [
    "# Deep Learning Project - Orca Call Clustering \n",
    "Karlee Zammit - V00823093 "
   ]
  },
  {
   "cell_type": "markdown",
   "metadata": {},
   "source": [
    "https://github.com/earthspecies/library/tree/main/orcas\n",
    "\n",
    "https://debuggercafe.com/pytorch-pretrained-efficientnet-model-image-classification/"
   ]
  },
  {
   "cell_type": "code",
   "execution_count": 11,
   "metadata": {},
   "outputs": [],
   "source": [
    "from __future__ import print_function, division\n",
    "import os\n",
    "import torch\n",
    "import pandas as pd\n",
    "from skimage import io, transform\n",
    "import numpy as np\n",
    "import matplotlib.pyplot as plt\n",
    "from torch.utils.data import Dataset, DataLoader\n",
    "from torchvision import transforms, utils\n",
    "from torchvision.datasets import ImageFolder\n",
    "from PIL import Image, ImageOps\n",
    "import os.path, sys\n",
    "import tensorflow as tf\n",
    "import torchaudio\n",
    "import torchaudio.transforms as T\n",
    "import librosa\n",
    "import matplotlib.pyplot as plt\n",
    "import wave\n",
    "from IPython.display import Audio\n",
    "from torchvision.io import read_image\n",
    "import torch\n",
    "import torch.nn as nn\n",
    "import torchvision.models as models\n",
    "import torch.optim as optim\n",
    "from sklearn.model_selection import train_test_split\n",
    "\n",
    "device = torch.device(\"cuda\" if torch.cuda.is_available() else \"cpu\")"
   ]
  },
  {
   "cell_type": "markdown",
   "metadata": {},
   "source": [
    "# Functions"
   ]
  },
  {
   "cell_type": "code",
   "execution_count": null,
   "metadata": {},
   "outputs": [],
   "source": [
    "# Plot and save the waveform from the wave file \n",
    "def plot_waveform(idx, waveform, sr, title=\"Waveform\"):\n",
    "    waveform = waveform.numpy()\n",
    "\n",
    "    num_channels, num_frames = waveform.shape\n",
    "    time_axis = torch.arange(0, num_frames) / sr\n",
    "\n",
    "    figure, axes = plt.subplots(num_channels, 1)\n",
    "    axes.plot(time_axis, waveform[0], linewidth=1)\n",
    "    axes.grid(True)\n",
    "    figure.suptitle(title)\n",
    "    plt.show(block=False)\n",
    "    #plt.savefig(r'C:\\Users\\kzammit\\Repos\\school\\phys555\\project-DL\\orcas_classification\\wavpngs\\wav-' + str(idx) + '.png')\n",
    "    plt.close()"
   ]
  },
  {
   "cell_type": "code",
   "execution_count": null,
   "metadata": {},
   "outputs": [],
   "source": [
    "# Plot and save the spectrogram from the wave file\n",
    "#def create_spectrogram(idx, specgram, title=None, ylabel=\"freq_bin\"):\n",
    "def create_spectrogram(idx, specgram):\n",
    "    #fig, axs = plt.subplots(1, 1)\n",
    "    #axs.set_title(title or \"Spectrogram (db)\")\n",
    "    #axs.set_ylabel(ylabel)\n",
    "    #axs.set_xlabel(\"frame\")\n",
    "    #axs.set_ylim(0, 100)\n",
    "    #print(specgram.shape)\n",
    "    #imgf = np.flip(specgram, axis=0)\n",
    "    transform=transforms.ToPILImage()\n",
    "    #specgram=transform(specgram)\n",
    "    specgram= transform(specgram)\n",
    "    specgram = ImageOps.flip(specgram)\n",
    "    specgram.save(r\"C:\\Users\\kzammit\\Documents\\PHYS555\\orcas_classification\\specs\\spec-\" + str(idx) + \".png\")\n",
    "    #display(specgram)\n",
    "    \n",
    "    #im = Image.fromarray(librosa.power_to_db(specgram))\n",
    "    #if im.mode != 'RGB':\n",
    "    #    im = im.convert('RGB')\n",
    "    #im.save(\"your_file.jpeg\")\n",
    "    #im = axs.imshow(librosa.power_to_db(specgram), origin=\"lower\", aspect=\"auto\")\n",
    "    # librosa... is a numpy array, save that to a png file instead \n",
    "    #fig.colorbar(im, ax=axs)\n",
    "    #plt.show(block=False)\n",
    "    #plt.savefig(r'C:\\Users\\kzammit\\Repos\\school\\phys555\\project-DL\\orcas_classification\\spectrograms\\spec-' + str(idx) + '.png')\n",
    "    #plt.close()"
   ]
  },
  {
   "cell_type": "code",
   "execution_count": null,
   "metadata": {},
   "outputs": [],
   "source": [
    "# Crop the spectrogram figures and save as pngs\n",
    "def crop(path, dirs):\n",
    "    for item in dirs:\n",
    "        fullpath = os.path.join(path,item)\n",
    "        if os.path.isfile(fullpath):\n",
    "            im = Image.open(fullpath)\n",
    "            f, e = os.path.splitext(fullpath)\n",
    "            # last one does the height\n",
    "            # left top right bottom\n",
    "            imCrop = im.crop((80, 58, 475, 425)) #corrected\n",
    "            #imCrop.save(f + '-crop.png', \"PNG\", quality=300)\n",
    "            display(imCrop)"
   ]
  },
  {
   "cell_type": "code",
   "execution_count": 4,
   "metadata": {},
   "outputs": [],
   "source": [
    "def preprocess():\n",
    "    \n",
    "    transform =  transforms.Compose([\n",
    "        transforms.ToPILImage(),\n",
    "        transforms.Resize(256),\n",
    "        transforms.CenterCrop(224),\n",
    "        transforms.ToTensor(),\n",
    "        transforms.Normalize(mean=[0.485], \n",
    "                             std=[0.229]),])\n",
    "    return transform\n",
    "\n",
    "#transforms.Normalize(mean=[0.485, 0.456, 0.406], \n",
    "#                     std=[0.229, 0.224, 0.225]),])"
   ]
  },
  {
   "cell_type": "markdown",
   "metadata": {},
   "source": [
    "# Spectrogram Generation and Preprocessing"
   ]
  },
  {
   "cell_type": "code",
   "execution_count": null,
   "metadata": {},
   "outputs": [],
   "source": [
    "# For each available wave file\n",
    "for ii in range(0, 594):\n",
    "    \n",
    "    # In the audio folder \n",
    "    path = r'C:\\Users\\kzammit\\Documents\\PHYS555\\orcas_classification\\audio'\n",
    "    \n",
    "    # Get the file name and path\n",
    "    file = '\\\\' + str(ii) + '.wav'\n",
    "    fullfile = path + file\n",
    "\n",
    "    # Set the sample to this file\n",
    "    SAMPLE_WAV = fullfile\n",
    "\n",
    "    # Load the wave with torchaudio \n",
    "    ORCA_WAVEFORM, SAMPLE_RATE = torchaudio.load(SAMPLE_WAV)\n",
    "\n",
    "    # Plot the original waveform \n",
    "    #plot_waveform(idx=str(ii), waveform=ORCA_WAVEFORM, sr=SAMPLE_RATE, title=\"Original waveform\")\n",
    "    Audio(ORCA_WAVEFORM.numpy(), rate=SAMPLE_RATE)\n",
    "\n",
    "    # Set the spectrogram parameters \n",
    "    n_fft = 2000\n",
    "    win_length = 2000\n",
    "    hop_length = 100\n",
    "\n",
    "    # Define spectrogram settings using torch audio transforms  \n",
    "    spectrogram = T.Spectrogram(n_fft=n_fft, win_length=win_length, hop_length=hop_length, center=True, pad_mode=\"reflect\",power=2.0)\n",
    "    \n",
    "    # Calculate the spectrogram \n",
    "    spec = spectrogram(ORCA_WAVEFORM)\n",
    "    \n",
    "    # Plot and save the spectrogram\n",
    "    create_spectrogram(idx=str(ii), specgram=spec[0])"
   ]
  },
  {
   "cell_type": "code",
   "execution_count": null,
   "metadata": {},
   "outputs": [],
   "source": [
    "# Crop the spectrograms and save as images \n",
    "path = r\"C:\\Users\\kzammit\\Documents\\PHYS555\\orcas_classification\\example_crop\"\n",
    "dirs = os.listdir(path)\n",
    "crop(path, dirs)\n",
    "\n",
    "# the initial size of the image "
   ]
  },
  {
   "cell_type": "markdown",
   "metadata": {},
   "source": [
    "# Load in Data"
   ]
  },
  {
   "cell_type": "code",
   "execution_count": 5,
   "metadata": {},
   "outputs": [],
   "source": [
    "class OrcaImageDataset(Dataset):\n",
    "    \n",
    "    def __init__(self, annotations_file, img_dir, transform, target_transform=None):\n",
    "        self.img_labels = pd.read_csv(annotations_file)\n",
    "        self.img_dir = img_dir\n",
    "        self.transform = transform\n",
    "        self.target_transform = target_transform\n",
    "\n",
    "    def __len__(self):\n",
    "        return len(self.img_labels)\n",
    "\n",
    "    def __getitem__(self, idx):\n",
    "        img_path = os.path.join(self.img_dir, self.img_labels.iloc[idx, 0])\n",
    "        image = read_image(img_path)\n",
    "        label = self.img_labels.iloc[idx, 1]\n",
    "        if self.transform:\n",
    "            image = self.transform(image)\n",
    "        if self.target_transform:\n",
    "            label = self.target_transform(label)\n",
    "        return image, label"
   ]
  },
  {
   "cell_type": "code",
   "execution_count": 6,
   "metadata": {},
   "outputs": [],
   "source": [
    "annotations_file = r\"C:\\Users\\kzammit\\Documents\\PHYS555\\orcas_classification\\annotations-edited.csv\"\n",
    "img_dir = r\"C:\\Users\\kzammit\\Documents\\PHYS555\\orcas_classification\\specs\"\n",
    "#orca_dataset = OrcaImageDataset(annotations_file, img_dir, transform=transforms.Grayscale())\n",
    "#input_height = 367\n",
    "#input_width = 395\n",
    "#perm_val = input_height*input_width\n",
    "#resize = transforms.Resize(size=(input_height, input_width), antialias=True) # aspect ratio is important, and center crop\n",
    "transforms_eff = preprocess()\n",
    "#orca_dataset = OrcaImageDataset(annotations_file, img_dir, transform= transforms.Compose([transforms.Lambda(lambda x: x[:3]), resize, transforms.ToTensor()])) # drop the alpha channel from the image\n",
    "#orca_dataset = OrcaImageDataset(annotations_file, img_dir, transform= transforms.Compose([transforms.Lambda(lambda x: x[:3]), resize, transforms.Grayscale(num_output_channels=1)]))\n",
    "#orca_dataset = OrcaImageDataset(annotations_file, img_dir, transform= transforms.Compose([transforms.Lambda(lambda x: x[:3]), resize]))# drop the alpha channel from the image\n",
    "orca_dataset = OrcaImageDataset(annotations_file, img_dir, transform=transforms_eff)"
   ]
  },
  {
   "cell_type": "code",
   "execution_count": null,
   "metadata": {},
   "outputs": [],
   "source": [
    "print(orca_dataset.img_labels)"
   ]
  },
  {
   "cell_type": "code",
   "execution_count": null,
   "metadata": {},
   "outputs": [],
   "source": [
    "print('The shape of tensor for 60th image in train dataset: ', orca_dataset[60][0].shape)\n",
    "print(orca_dataset)"
   ]
  },
  {
   "cell_type": "code",
   "execution_count": null,
   "metadata": {},
   "outputs": [],
   "source": [
    "print(orca_dataset[60][0])"
   ]
  },
  {
   "cell_type": "code",
   "execution_count": 7,
   "metadata": {},
   "outputs": [],
   "source": [
    "xtrain_data, test_data, ytrain_labels, test_labels = train_test_split(\n",
    "    orca_dataset, orca_dataset.img_labels, test_size=0.2, random_state=21)\n",
    "\n",
    "#  split a validation set from the training set\n",
    "train_data, val_data, train_labels, val_labels = train_test_split(\n",
    "    xtrain_data, ytrain_labels, test_size=0.2, random_state=22)"
   ]
  },
  {
   "cell_type": "code",
   "execution_count": 8,
   "metadata": {},
   "outputs": [],
   "source": [
    "batch_size = 1\n",
    "train_loader = DataLoader(train_data, batch_size=batch_size, shuffle=True)\n",
    "val_loader = DataLoader(val_data, batch_size=batch_size, shuffle=True)\n",
    "test_loader = DataLoader(test_data, batch_size=batch_size, shuffle=True)"
   ]
  },
  {
   "cell_type": "code",
   "execution_count": null,
   "metadata": {},
   "outputs": [],
   "source": [
    "transform = transforms.ToPILImage()\n",
    "plt.figure(figsize=(16, 6))\n",
    "for i in range(10):\n",
    "    plt.subplot(2, 5, i + 1)\n",
    "    image, _ = data_loader.dataset.__getitem__(i)\n",
    "    #print(image.shape)\n",
    "    image = transform(image)\n",
    "    plt.imshow(image)\n",
    "    plt.axis('off');\n",
    "    #print(image.size)"
   ]
  },
  {
   "cell_type": "code",
   "execution_count": 12,
   "metadata": {},
   "outputs": [],
   "source": [
    "# https://medium.com/analytics-vidhya/implementing-under-over-autoencoders-using-pytorch-4ddaf458947e\n",
    "class CNN_autoencoder(nn.Module):\n",
    "    def __init__(self):\n",
    "        super().__init__()\n",
    "        self.encoder = nn.Sequential(\n",
    "            nn.Conv2d(in_channels=1, out_channels=4, kernel_size=(3,3)),  # from 1 ---> 4, size = 26x26\n",
    "            #nn.ReLU(),\n",
    "            nn.Conv2d(in_channels=4, out_channels=16, kernel_size=(3,3)),  # from 4 --> 16, size = 24x24\n",
    "            nn.ReLU(),     #\n",
    "            nn.MaxPool2d(2,2),                                              # size=12x12\n",
    "            #nn.Tanh()\n",
    "        )\n",
    "\n",
    "        self.decoder = nn.Sequential(\n",
    "            nn.ConvTranspose2d(in_channels=16, out_channels=4, kernel_size=(3,3)),  # 16 --> 4, size=14*14\n",
    "            #nn.ReLU(),\n",
    "            nn.ConvTranspose2d(in_channels=4, out_channels=1, kernel_size=(2,2), stride=2),  # 4 --> 1, size=28*28\n",
    "            #nn.ReLU(),\n",
    "            nn.Tanh()                  # TanH is recommended as the output image pixel intensities have to lie between -1 & 1\n",
    "        )\n",
    "\n",
    "    def forward(self, x):\n",
    "        for l in self.encoder:\n",
    "            x = l(x)\n",
    "            lspace = x\n",
    "        for l in self.decoder:\n",
    "            x = l(x)\n",
    "        return lspace, x\n",
    "\n",
    "conv_model = CNN_autoencoder().to(device)\n",
    "criterion = nn.MSELoss()       # loss function is kept same\n",
    "learning_rate = 1e-3\n",
    "\n",
    "optimizer = torch.optim.Adam(\n",
    "    #model.parameters(),       # uncomment for standard AE\n",
    "    conv_model.parameters(),   # uncomment for CNN AE\n",
    "    lr=learning_rate\n",
    ")"
   ]
  },
  {
   "cell_type": "code",
   "execution_count": 31,
   "metadata": {},
   "outputs": [
    {
     "name": "stdout",
     "output_type": "stream",
     "text": [
      "epoch [1/10], loss: 0.8987\n",
      "epoch [2/10], loss: 0.4823\n",
      "epoch [3/10], loss: 0.7671\n",
      "epoch [4/10], loss: 0.8351\n",
      "epoch [5/10], loss: 0.4964\n",
      "epoch [6/10], loss: 0.7194\n",
      "epoch [7/10], loss: 0.6077\n",
      "epoch [8/10], loss: 0.8712\n",
      "epoch [9/10], loss: 0.7036\n",
      "epoch [10/10], loss: 0.5237\n"
     ]
    }
   ],
   "source": [
    "transform = transforms.ToPILImage()\n",
    "num_epochs = 10\n",
    "lspaces = []\n",
    "# do = nn.Dropout()                   # comment out for under AE\n",
    "for epoch in range(num_epochs):\n",
    "    for data in train_loader:\n",
    "        img, _ = data\n",
    "        img    = img.to(device)\n",
    "        #if epoch == 0:\n",
    "        #    print(img[0].shape)\n",
    "        #    img2 = transform(img[0])\n",
    "        #    display(img2)\n",
    "        #img    = img.view(img.size(0), -1)  # tensor to shape mentioned view(). '-1' means other dim is inferred, comment for linear AE\n",
    "\n",
    "        #noise = do(torch.ones(img.shape)).to(device)   # uncomment for over AE and ConvAE. Create noise\n",
    "        #img_bad = (img * noise).to(device)             # uncomment for over AE and ConvAE. Add noise to the image\n",
    "\n",
    "        #************************ forward *************************\n",
    "        #output = model(img)                             # uncomment for fully connected\n",
    "                                                        # feed img_bad for over AE\n",
    "        lspace, output = conv_model(img)\n",
    "        lspaces.append(lspace)\n",
    "        loss   = criterion(output, img.data)\n",
    "        #************************ backward *************************\n",
    "        optimizer.zero_grad()\n",
    "        loss.backward()\n",
    "        optimizer.step()\n",
    "    # ***************************** log ***************************\n",
    "    print(f'epoch [{epoch + 1}/{num_epochs}], loss:{loss.item(): .4f}')"
   ]
  },
  {
   "cell_type": "code",
   "execution_count": 32,
   "metadata": {},
   "outputs": [
    {
     "name": "stdout",
     "output_type": "stream",
     "text": [
      "3800 1 16 110\n"
     ]
    },
    {
     "data": {
      "image/png": "[encoded data removed]",
      "text/plain": [
       "<PIL.Image.Image image mode=L size=110x110>"
      ]
     },
     "metadata": {},
     "output_type": "display_data"
    },
    {
     "data": {
      "image/png": "[encoded data removed]",
      "text/plain": [
       "<PIL.Image.Image image mode=L size=224x224>"
      ]
     },
     "metadata": {},
     "output_type": "display_data"
    }
   ],
   "source": [
    "#print(lspaces)\n",
    "dim1 = len(lspaces)\n",
    "dim2 = len(lspaces[0])\n",
    "dim3 = len(lspaces[0][0])\n",
    "dim5 = len(lspaces[0][0][0][0]) # 6 is too big \n",
    "print(dim1, dim2, dim3, dim4)\n",
    "transform = transforms.ToPILImage()\n",
    "img = transform(lspace[0][0])\n",
    "display(img)\n",
    "img_o = transform(output[0][0])\n",
    "display(img_o)"
   ]
  },
  {
   "cell_type": "markdown",
   "metadata": {},
   "source": [
    "Project minimum: Load a better model, U Map of the latent space, clusters, plot with labels of the call types \n",
    "fix the encoder part with a pretrained network, learn the decoder\n",
    "\n",
    "self.resnet.fc = nn.Identity() # remove the fully connected laye\n",
    "        \n",
    "add a decoder that's not pretrained \n",
    "    \n",
    "try to use a powerful pretrained encoder to a basic one i made (efficient net v2) \n",
    "\n",
    "# my_spe = autoencoder(data)\n",
    "# make list of my spec . features, send that to umap, plot this representation \n",
    "# "
   ]
  },
  {
   "cell_type": "code",
   "execution_count": null,
   "metadata": {},
   "outputs": [],
   "source": [
    "accuracy_list = []\n",
    "\n",
    "def train(epoch, model):\n",
    "    model.to(device)\n",
    "    optimizer = optim.SGD(model.parameters(), lr=0.01, momentum=0.5) \n",
    "\n",
    "    model.train()\n",
    "    for img, label in data_loader:\n",
    "        img = img.to(device)\n",
    "        img = img.type(torch.cuda.FloatTensor) # move this to the dataset\n",
    "\n",
    "        optimizer.zero_grad() # set the gradient of the optimizer\n",
    "        output = model(img)\n",
    "        print(output.shape)\n",
    "        #loss = F.nll_loss(output, target) # apply the loss function to it \n",
    "        #loss.backward()\n",
    "        #optimizer.step()"
   ]
  },
  {
   "cell_type": "code",
   "execution_count": null,
   "metadata": {},
   "outputs": [],
   "source": [
    "model = models.efficientnet_b0(pretrained=True)"
   ]
  }
 ],
 "metadata": {
  "accelerator": "GPU",
  "colab": {
   "provenance": [
    {
     "file_id": "1BAuvW5MgHYiaEFIB7bMPwV0DTr6nFg1X",
     "timestamp": 1680043017434
    },
    {
     "file_id": "1C5dMssJUb_vyXuU4D0NODjattYaroMXR",
     "timestamp": 1680027838253
    },
    {
     "file_id": "1_J2MrBSvsJfOcVmYAN2-WSp36BtsFZCa",
     "timestamp": 1679891532089
    }
   ]
  },
  "gpuClass": "standard",
  "kernelspec": {
   "display_name": "hotdog",
   "language": "python",
   "name": "hotdog"
  },
  "language_info": {
   "codemirror_mode": {
    "name": "ipython",
    "version": 3
   },
   "file_extension": ".py",
   "mimetype": "text/x-python",
   "name": "python",
   "nbconvert_exporter": "python",
   "pygments_lexer": "ipython3",
   "version": "3.8.16"
  }
 },
 "nbformat": 4,
 "nbformat_minor": 4
}
