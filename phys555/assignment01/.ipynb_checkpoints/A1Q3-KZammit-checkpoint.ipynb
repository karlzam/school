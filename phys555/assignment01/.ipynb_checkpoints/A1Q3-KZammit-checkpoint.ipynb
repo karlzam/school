{
 "cells": [
  {
   "cell_type": "markdown",
   "id": "a4a3208f-7e35-4f80-9234-82763f1bbf8d",
   "metadata": {},
   "source": [
    "# Phys555 Assignment 1 Question 2\n",
    "\n",
    "SVD for face recognition. Explain how it works and show some examples. Bonus: Implement it on a (B&W) image data set with adequate explanation."
   ]
  },
  {
   "cell_type": "markdown",
   "id": "d7d28d31-1324-4531-8754-fc29f6bce45c",
   "metadata": {},
   "source": [
    "Paper link: \n",
    "\n",
    "Blog for help: https://sandipanweb.wordpress.com/2018/01/06/eigenfaces-and-a-simple-face-detector-with-pca-svd-in-python/\n",
    "\n",
    "https://scikit-learn.org/stable/auto_examples/decomposition/plot_faces_decomposition.html\n"
   ]
  },
  {
   "cell_type": "code",
   "execution_count": 8,
   "id": "408f2d11-3dbe-4f95-a925-29fb8b367bbf",
   "metadata": {},
   "outputs": [],
   "source": [
    "from sklearn.datasets import fetch_olivetti_faces"
   ]
  },
  {
   "cell_type": "code",
   "execution_count": null,
   "id": "da4143e4-fb60-49ef-9b30-ca239701f0c3",
   "metadata": {},
   "outputs": [],
   "source": []
  }
 ],
 "metadata": {
  "kernelspec": {
   "display_name": "phys555",
   "language": "python",
   "name": "phys555"
  },
  "language_info": {
   "codemirror_mode": {
    "name": "ipython",
    "version": 3
   },
   "file_extension": ".py",
   "mimetype": "text/x-python",
   "name": "python",
   "nbconvert_exporter": "python",
   "pygments_lexer": "ipython3",
   "version": "3.7.15"
  }
 },
 "nbformat": 4,
 "nbformat_minor": 5
}
